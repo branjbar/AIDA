{
  "nbformat": 4,
  "nbformat_minor": 0,
  "metadata": {
    "colab": {
      "name": "rixai_util_main.ipynb",
      "provenance": [],
      "collapsed_sections": [],
      "authorship_tag": "ABX9TyP4xQchmWI/lnlz+3uL6sXA",
      "include_colab_link": true
    },
    "kernelspec": {
      "name": "python3",
      "display_name": "Python 3"
    }
  },
  "cells": [
    {
      "cell_type": "markdown",
      "metadata": {
        "id": "view-in-github",
        "colab_type": "text"
      },
      "source": [
        "<a href=\"https://colab.research.google.com/github/branjbar/AIDA/blob/master/python-code/corpus-to-map/rixai_util_main.ipynb\" target=\"_parent\"><img src=\"https://colab.research.google.com/assets/colab-badge.svg\" alt=\"Open In Colab\"/></a>"
      ]
    },
    {
      "cell_type": "code",
      "metadata": {
        "id": "k0KHFJn5aCIw",
        "colab_type": "code",
        "colab": {}
      },
      "source": [
        "%%capture\n",
        "!pip install -U sentence-transformers"
      ],
      "execution_count": 210,
      "outputs": []
    },
    {
      "cell_type": "code",
      "metadata": {
        "id": "Q0ORO1VZF94d",
        "colab_type": "code",
        "colab": {
          "base_uri": "https://localhost:8080/",
          "height": 54
        },
        "outputId": "d6acde3f-21cd-4412-869d-91052926bafe"
      },
      "source": [
        "from google.colab import drive, files\n",
        "drive.mount('/content/drive')"
      ],
      "execution_count": 211,
      "outputs": [
        {
          "output_type": "stream",
          "text": [
            "Drive already mounted at /content/drive; to attempt to forcibly remount, call drive.mount(\"/content/drive\", force_remount=True).\n"
          ],
          "name": "stdout"
        }
      ]
    },
    {
      "cell_type": "code",
      "metadata": {
        "id": "C-9_aUZhH4Nz",
        "colab_type": "code",
        "colab": {
          "base_uri": "https://localhost:8080/",
          "height": 102
        },
        "outputId": "16a47926-d462-4aa3-e7cd-606f8e26d76c"
      },
      "source": [
        "import warnings, os\n",
        "import json\n",
        "import pandas as pd, numpy as np\n",
        "import matplotlib.cm as cm\n",
        "import seaborn as sns\n",
        "import spacy\n",
        "import nltk\n",
        "from nltk.stem.wordnet import WordNetLemmatizer\n",
        "from nltk.corpus import wordnet as wn\n",
        "from sentence_transformers import SentenceTransformer\n",
        "from sklearn.decomposition import PCA\n",
        "from sklearn.cluster import KMeans\n",
        "from sklearn.linear_model import LogisticRegression\n",
        "from sklearn.linear_model import LinearRegression\n",
        "from sklearn.feature_extraction.text import TfidfVectorizer\n",
        "from matplotlib import pyplot as plt\n",
        "from sklearn.externals import joblib\n",
        "from sklearn.linear_model import LogisticRegression\n",
        "nltk.download('wordnet')\n",
        "nltk.download('stopwords')"
      ],
      "execution_count": 212,
      "outputs": [
        {
          "output_type": "stream",
          "text": [
            "[nltk_data] Downloading package wordnet to /root/nltk_data...\n",
            "[nltk_data]   Package wordnet is already up-to-date!\n",
            "[nltk_data] Downloading package stopwords to /root/nltk_data...\n",
            "[nltk_data]   Package stopwords is already up-to-date!\n"
          ],
          "name": "stdout"
        },
        {
          "output_type": "execute_result",
          "data": {
            "text/plain": [
              "True"
            ]
          },
          "metadata": {
            "tags": []
          },
          "execution_count": 212
        }
      ]
    },
    {
      "cell_type": "code",
      "metadata": {
        "id": "vOyxoM6FHIRs",
        "colab_type": "code",
        "colab": {}
      },
      "source": [
        "PROJECTS_PATH = \"/content/drive/My Drive/Freelancing/rixai/projects\""
      ],
      "execution_count": 213,
      "outputs": []
    },
    {
      "cell_type": "code",
      "metadata": {
        "id": "63AgtQTvGEvq",
        "colab_type": "code",
        "colab": {}
      },
      "source": [
        "# read input file\n",
        "def read_data(data_folder_path):\n",
        "    try:\n",
        "        df = pd.read_csv(os.path.join(data_folder_path, \"data_raw.csv\"))\n",
        "    except:\n",
        "        df = pd.read_csv(os.path.join(data_folder_path, \"data_raw.csv\"), sep=\";\")\n",
        "    print(\"%i rows with %i columns is read from %s\" % (df.shape[0], df.shape[1], data_folder_path))\n",
        "    return df"
      ],
      "execution_count": 215,
      "outputs": []
    },
    {
      "cell_type": "code",
      "metadata": {
        "id": "8mQjKA4DGK8-",
        "colab_type": "code",
        "colab": {}
      },
      "source": [
        "# standardize columns names and fill missing\n",
        "def standardize_column_names(df):\n",
        "    c_list = df.columns\n",
        "    new_c_list = []\n",
        "    for c in c_list:\n",
        "        c = c.replace(\"(\",\"\").replace(\")\",\"\").replace(\".\",\"\").replace(\"-\",\"_\").replace(\"/\",\"_\")\n",
        "        c = c.replace(\"_\",\" \")\n",
        "        c = ' '.join(c.split())\n",
        "        new_c_list.append('_'.join(c.lower().split(\" \")))\n",
        "    df.columns = new_c_list\n",
        "    if len(set(new_c_list)) != len(new_c_list):\n",
        "        print(\"warning: duplicate column names are generated.\")\n",
        "\n",
        "    if \"publication_id\" not in df.columns:\n",
        "        df['uid'] = \"pub.mde.\" + df_tabular.index.astype(str)\n",
        "    else:\n",
        "        df['uid'] = df[\"publication_id\"]\n",
        "\n",
        "    print(\"column names standardized\")\n",
        "    return df"
      ],
      "execution_count": 216,
      "outputs": []
    },
    {
      "cell_type": "code",
      "metadata": {
        "id": "YMlUn0Lqmbws",
        "colab_type": "code",
        "colab": {}
      },
      "source": [
        "# fix data\n",
        "def fix_data(df_tabular):\n",
        "\n",
        "    df_tabular_fixed = df_tabular[df_tabular[\"uid\"].str.startswith('pub.')==True]    \n",
        "    df_tabular_fixed = df_tabular_fixed.drop_duplicates(subset=[\"uid\"]).copy()\n",
        "    \n",
        "    \n",
        "    print(\"%i rows removed to fix data.\" % (df_tabular.shape[0] - df_tabular_fixed.shape[0]))\n",
        "    return df_tabular_fixed"
      ],
      "execution_count": 217,
      "outputs": []
    },
    {
      "cell_type": "code",
      "metadata": {
        "id": "Z_41GIQUYp9t",
        "colab_type": "code",
        "colab": {}
      },
      "source": [
        "# melt data\n",
        "def melt_data(df):\n",
        "    df = df.melt(id_vars=[\"uid\"])\n",
        "    df.columns = [\"uid\",\"feature\",\"value\"]\n",
        "    print(\"data is melted\")\n",
        "    return df"
      ],
      "execution_count": 218,
      "outputs": []
    },
    {
      "cell_type": "code",
      "metadata": {
        "id": "G4RPS1yOj11Y",
        "colab_type": "code",
        "colab": {}
      },
      "source": [
        "def add_text_feature(df, df_1, df_2):\n",
        "\n",
        "    df_1 = df_1.copy()\n",
        "    df_2 = df_2.copy()\n",
        "\n",
        "    df_1.value = df_1.value.fillna(\"\")\n",
        "    df_2.value = df_2.value.fillna(\"\")\n",
        "    df_3 = df_1.merge(df_2, on=\"uid\", how='outer')\n",
        "    df_3[\"value\"] = (df_3.value_x + \". \" + df_3.value_y).str.strip()\n",
        "    df_3[\"feature\"] = \"text\"\n",
        "    df_3 = df_3[[\"uid\",\"feature\",\"value\"]] \n",
        "\n",
        "\n",
        "    replace_from = \"Lecture Notes in Computer Science (including subseries Lecture Notes in Artificial Intelligence and Lecture Notes in Bioinformatics)\"\n",
        "    replace_to = \"Lecture Notes in Computer Science\"\n",
        "    df_3.value = df_3.value.apply(lambda x: x.replace(replace_from, replace_to))\n",
        "    \n",
        "    return pd.concat([df, df_3])"
      ],
      "execution_count": 219,
      "outputs": []
    },
    {
      "cell_type": "code",
      "metadata": {
        "id": "pZ5CmtTQGNqd",
        "colab_type": "code",
        "colab": {}
      },
      "source": [
        "# get basic statistics\n",
        "def get_statistics(df):\n",
        "    dict_stat = {\n",
        "        'df_size': df.shape,\n",
        "        'df_num_uid': df.uid.nunique(),\n",
        "        'df_num_features': df.feature.nunique(),\n",
        "    }\n",
        "    \n",
        "    return dict_stat"
      ],
      "execution_count": 220,
      "outputs": []
    },
    {
      "cell_type": "code",
      "metadata": {
        "id": "aFv5dLXeGrUE",
        "colab_type": "code",
        "colab": {}
      },
      "source": [
        "# add keywords\n",
        "def get_keyword_embeddings(data_folder_path):\n",
        "    keyword_embedding_file_path = os.path.join(data_folder_path,\"data_keyword_embedding.pkl\")\n",
        "    keyword_file_path = os.path.join(data_folder_path,\"data_keyword.csv\")\n",
        "    sample_size = 5000\n",
        "\n",
        "    try:\n",
        "        df_keyword = pd.read_pickle(keyword_embedding_file_path)\n",
        "        print(\"keyword embedding loaded from file.\")\n",
        "\n",
        "    except:\n",
        "        try:\n",
        "            df_keyword = pd.read_csv(keyword_file_path, sep=\"\\t\")\n",
        "            df_keyword = df_keyword.append({\"keyword\": ''}, ignore_index=True).reset_index()\n",
        "            df_keyword['key'] = 0\n",
        "            df_keyword_triple = df_keyword.merge(df_keyword, how='outer', on=\"key\").merge(df_keyword, how='outer', on=\"key\")\n",
        "            df_keyword_triple = df_keyword_triple[(df_keyword_triple.keyword_x < df_keyword_triple.keyword_y) & (df_keyword_triple.keyword_y < df_keyword_triple.keyword)]\n",
        "            df_keyword_triple[\"keyword\"] = df_keyword_triple[\"keyword_x\"] + \" - \" + df_keyword_triple[\"keyword_y\"] + \" - \" + df_keyword_triple[\"keyword\"]\n",
        "            df_keyword = df_keyword_triple[\"keyword\"].sample(sample_size, random_state=0).reset_index()\n",
        "\n",
        "\n",
        "            print(\"generating keyword embeddings for the first time\")\n",
        "            model = SentenceTransformer('bert-base-nli-stsb-mean-tokens')\n",
        "            embedding_list = []\n",
        "            n = 10\n",
        "            step = int(df_keyword.shape[0] / n)\n",
        "            print(\"total: %i, steps: %i\" % (df_keyword.shape[0],n))\n",
        "            for i in range(n):\n",
        "                print(i * step,\"-\", (i+1)*step-1)\n",
        "                text_list = df_keyword.loc[i*step:(i+1)*step-1, \"keyword\"].values\n",
        "                embedding_list = embedding_list + model.encode(text_list)\n",
        "            print((i+1) * step,\"-\", \"end\")\n",
        "            text_list = df_keyword.loc[(i+1)*step:, \"keyword\"].values\n",
        "            embedding_list = embedding_list + model.encode(text_list)\n",
        "            df_keyword[\"embedding\"] = embedding_list\n",
        "            df_keyword[[\"keyword\", \"embedding\"]].to_pickle(keyword_embedding_file_path)\n",
        "        except:\n",
        "            print(\"cannot import keyword embedding\")\n",
        "            return pd.DataFrame()\n",
        "        \n",
        "    return df_keyword"
      ],
      "execution_count": 221,
      "outputs": []
    },
    {
      "cell_type": "code",
      "metadata": {
        "id": "0jKjm8S-GTwE",
        "colab_type": "code",
        "colab": {}
      },
      "source": [
        "# get text embeddings\n",
        "\n",
        "def add_text_embeddings(df, data_folder_path):\n",
        "\n",
        "    #45 seconds for 7122 titles\n",
        "    text_embedding_file_path = os.path.join(data_folder_path,\"data_text_embedding.pkl\")\n",
        "    df_text = df[df.feature=='text'][[\"uid\", 'value']]\n",
        "\n",
        "    try:\n",
        "        df_text_embedding = pd.read_pickle(text_embedding_file_path)\n",
        "        print(\"text embedding loaded from file.\")\n",
        "        df_text_embedding.columns = [\"uid\", \"value\"]\n",
        "        df_text_embedding[\"feature\"] = \"text_embedding\"\n",
        "\n",
        "    except:\n",
        "        print(\"generating embeddings for the first time\")\n",
        "        model = SentenceTransformer('bert-base-nli-stsb-mean-tokens')\n",
        "        embedding_list = []\n",
        "        n = 10\n",
        "        step = int(df_text.shape[0] / n)\n",
        "        print(\"total: %i, steps: %i\" % (df_text.shape[0],n))\n",
        "        for i in range(n):\n",
        "            print(i * step,\"-\", (i+1)*step-1)\n",
        "            text_list = df_text.loc[i*step:(i+1)*step-1, \"value\"].values\n",
        "            embedding_list = embedding_list + model.encode(text_list)\n",
        "        print((i+1) * step,\"-\", \"end\")\n",
        "        text_list = df_text.loc[(i+1)*step:, \"value\"].values\n",
        "        embedding_list = embedding_list + model.encode(text_list)\n",
        "        df_text[\"embedding\"] = embedding_list\n",
        "\n",
        "        df_text_embedding = df_text[[\"uid\", \"embedding\"]]\n",
        "        \n",
        "        df_text_embedding.to_pickle(text_embedding_file_path)\n",
        "        df_text_embedding.columns = [\"uid\", \"value\"]\n",
        "        df_text_embedding[\"feature\"] = \"text_embedding\"\n",
        "    \n",
        "    df_text_embedding = df_text_embedding[df_text_embedding.uid.isin(df.uid)]\n",
        "    df_text_embedding = df_text_embedding.drop_duplicates(['uid'])\n",
        "    return pd.concat([df, df_text_embedding])"
      ],
      "execution_count": 222,
      "outputs": []
    },
    {
      "cell_type": "code",
      "metadata": {
        "id": "Kps7fr10GZER",
        "colab_type": "code",
        "colab": {}
      },
      "source": [
        "# do pca transfromation\n",
        "def pca_fit_transform(df, data_folder_path):\n",
        "    pca_2d_file = os.path.join(data_folder_path, \"model_pca_2d.pkl\")\n",
        "    pca_1d_file = os.path.join(data_folder_path, \"model_pca_1d.pkl\")\n",
        "    \n",
        "    df_embedding = df[df.feature==\"text_embedding\"].copy()\n",
        "\n",
        "    if os.path.isfile(pca_2d_file):\n",
        "        pca_2d = joblib.load(pca_2d_file)\n",
        "        print(\"Model for PCA 2D is loaded from file.\")\n",
        "    else:\n",
        "        pca_2d = PCA(n_components=2, whiten=True, random_state=0)\n",
        "        pca_2d.fit(np.asarray([x for x in df_embedding[\"value\"]]))    \n",
        "        joblib.dump(pca_2d, pca_2d_file)\n",
        "        print(\"Model for PCA 2D is stored.\")\n",
        "    \n",
        "    pca_2d_vectors = pca_2d.transform(np.asarray([x for x in df_embedding[\"value\"]]))    \n",
        "    \n",
        "    if os.path.isfile(pca_1d_file):\n",
        "        pca_1d = joblib.load(pca_1d_file)\n",
        "        print(\"Model for PCA 1D is loaded from file.\")\n",
        "    else:\n",
        "        pca_1d = PCA(n_components=1, whiten=True, random_state=0)\n",
        "        pca_1d.fit(np.asarray([x for x in df_embedding[\"value\"]]))    \n",
        "        joblib.dump(pca_1d, pca_1d_file)\n",
        "        print(\"Model for PCA 2D is stored.\")\n",
        "   \n",
        "    pca_1d = joblib.load(pca_1d_file)\n",
        "    pca_1d_vectors = pca_1d.transform(np.asarray([x for x in df_embedding[\"value\"]]))    \n",
        "    \n",
        "    df_pca_2d_x = df_embedding[[\"uid\"]].copy()\n",
        "    df_pca_2d_x[\"feature\"] = \"x_1\"\n",
        "    df_pca_2d_x[\"value\"] = pca_2d_vectors[:,0]\n",
        "    \n",
        "    df_pca_2d_y = df_embedding[[\"uid\"]].copy()\n",
        "    df_pca_2d_y[\"feature\"] = \"y_1\"\n",
        "    df_pca_2d_y[\"value\"] = pca_2d_vectors[:,1]\n",
        "\n",
        "    df_pca_1d = df_embedding[[\"uid\"]].copy()\n",
        "    df_pca_1d[\"feature\"] = \"y_2\"\n",
        "    df_pca_1d[\"value\"] = pca_1d_vectors[:,0]\n",
        "\n",
        "    return pd.concat([df, df_pca_2d_x, df_pca_2d_y, df_pca_1d])\n"
      ],
      "execution_count": 223,
      "outputs": []
    },
    {
      "cell_type": "code",
      "metadata": {
        "id": "bm58gEmWHqWS",
        "colab_type": "code",
        "colab": {}
      },
      "source": [
        "# do clustering\n",
        "def calcualte_clusters(df, num_cluster):\n",
        " \n",
        "    df_embedding = df[df.feature==\"text_embedding\"].copy()\n",
        "    kmeans = KMeans(n_clusters=num_cluster, random_state=0).fit(np.asarray([x for x in df_embedding[\"value\"]]))    \n",
        "\n",
        "    df_cluster = df_embedding[[\"uid\"]].copy()\n",
        "    df_cluster[\"feature\"] = \"cluster_1\"\n",
        "    df_cluster[\"value\"] = kmeans.labels_\n",
        "\n",
        "    return pd.concat([df, df_cluster])\n"
      ],
      "execution_count": 224,
      "outputs": []
    },
    {
      "cell_type": "code",
      "metadata": {
        "id": "Y8cUV8bphWj2",
        "colab_type": "code",
        "colab": {}
      },
      "source": [
        "# do clustering\n",
        "def train_classifier(df):\n",
        " \n",
        "    classifier_lr_file = os.path.join(data_folder_path, \"model_lr.pkl\")\n",
        "    \n",
        "    df_embedding = df[df.feature==\"text_embedding\"].copy()\n",
        "\n",
        "    if os.path.isfile(classifier_lr_file):\n",
        "        classifier_lr = joblib.load(classifier_lr_file)\n",
        "        print(\"Model for Logistic Regression is loaded from file.\")\n",
        "    else:\n",
        "        df_label = df[df.feature==\"cluster_1\"].copy()\n",
        "        classifier_lr = LogisticRegression(\n",
        "            random_state=0, \n",
        "            multi_class='multinomial',\n",
        "            max_iter = 1000\n",
        "            )\n",
        "        classifier_lr.fit(np.asarray([x for x in df_embedding[\"value\"]]), np.asarray([x for x in df_label[\"value\"]]))\n",
        "        joblib.dump(classifier_lr, classifier_lr_file)\n",
        "        print(\"Model for Logistic Regression is stored.\")\n",
        "    \n",
        "    \n",
        "\n",
        "\n",
        "    df_class = df_embedding[[\"uid\"]].copy()\n",
        "    df_class[\"feature\"] = \"cluster_2\"\n",
        "    df_class[\"value\"] = classifier_lr.predict(np.asarray([x for x in df_embedding[\"value\"]]))\n",
        "\n",
        "    return pd.concat([df, df_class])\n"
      ],
      "execution_count": 225,
      "outputs": []
    },
    {
      "cell_type": "code",
      "metadata": {
        "id": "IEf_TXRAGa5p",
        "colab_type": "code",
        "colab": {}
      },
      "source": [
        "# do tsne transformation"
      ],
      "execution_count": 226,
      "outputs": []
    },
    {
      "cell_type": "code",
      "metadata": {
        "id": "JUyDY0okGcsB",
        "colab_type": "code",
        "colab": {}
      },
      "source": [
        "# do trend transformation"
      ],
      "execution_count": 227,
      "outputs": []
    },
    {
      "cell_type": "code",
      "metadata": {
        "id": "3WaaChWHGmi9",
        "colab_type": "code",
        "colab": {}
      },
      "source": [
        "# do classification"
      ],
      "execution_count": 228,
      "outputs": []
    },
    {
      "cell_type": "code",
      "metadata": {
        "id": "iszhBojxGn8t",
        "colab_type": "code",
        "colab": {}
      },
      "source": [
        "# extract extra from_ features"
      ],
      "execution_count": 229,
      "outputs": []
    },
    {
      "cell_type": "code",
      "metadata": {
        "id": "ZQKgVKj-ZoG-",
        "colab_type": "code",
        "colab": {}
      },
      "source": [
        "def add_word_feature(df, top_n):\n",
        "    spacy.load('en')\n",
        "    en_stop = set(nltk.corpus.stopwords.words('english'))\n",
        "\n",
        "    parser = spacy.lang.en.English()\n",
        "    def tokenize(text):\n",
        "        lda_tokens = []\n",
        "        tokens = parser(text)\n",
        "        for token in tokens:\n",
        "            if token.orth_.isspace():\n",
        "                continue\n",
        "            elif token.like_url:\n",
        "                lda_tokens.append('URL')\n",
        "            elif token.orth_.startswith('@'):\n",
        "                lda_tokens.append('SCREEN_NAME')\n",
        "            else:\n",
        "                lda_tokens.append(token.lower_)\n",
        "        return lda_tokens\n",
        "    def get_lemma(word):\n",
        "        lemma = wn.morphy(word)\n",
        "        if lemma is None:\n",
        "            return word\n",
        "        else:\n",
        "            return lemma\n",
        "        \n",
        "    def get_lemma2(word):\n",
        "        return WordNetLemmatizer().lemmatize(word)\n",
        "\n",
        "    def prepare_text_for_lda(text):\n",
        "        tokens = tokenize(text)\n",
        "        tokens = [token for token in tokens if len(token) > 4]\n",
        "        tokens = [token for token in tokens if token not in en_stop]\n",
        "        tokens = [get_lemma(token) for token in tokens]\n",
        "        \n",
        "        return ' '.join(tokens)\n",
        "        \n",
        "    df_title = df[df.feature==\"title\"].copy()\n",
        "    df_title.value = df_title.value.fillna(\"\")\n",
        "    df_title[\"clean_text\"] = df_title.value.apply(prepare_text_for_lda)\n",
        "\n",
        "    vectorizer = TfidfVectorizer(min_df=.02, max_df=.8)\n",
        "    tfidf = vectorizer.fit(df_title.clean_text)\n",
        "    tfidf_matrix = tfidf.transform(df_title.clean_text)\n",
        "    df_tfidf = pd.DataFrame({\n",
        "        \"vocab\": list(tfidf.vocabulary_),\n",
        "        \"significance_sum\": tfidf_matrix.mean(axis=0).tolist()[0]\n",
        "    })\n",
        "    df_tfidf = df_tfidf.set_index(\"vocab\")\n",
        "\n",
        "    list_df_tmp = []\n",
        "    for w in df_tfidf.sort_values(by=\"significance_sum\", ascending=False).index[:top_n]:\n",
        "        df_tmp = df_title[df_title.clean_text.str.contains(w)]\n",
        "        df_tmp = df_tmp[[\"uid\"]]\n",
        "        df_tmp[\"feature\"] = \"from_word_%s\"%w\n",
        "        df_tmp[\"value\"] = 1\n",
        "        list_df_tmp.append(df_tmp)\n",
        "    return pd.concat([df] + list_df_tmp)"
      ],
      "execution_count": 230,
      "outputs": []
    },
    {
      "cell_type": "code",
      "metadata": {
        "id": "tXfgclRUfG0b",
        "colab_type": "code",
        "colab": {}
      },
      "source": [
        "def add_x_trend(df):\n",
        "    df_x_trend = df[df.feature==\"pubyear\"].copy()\n",
        "    df_x_trend[\"value\"] = df_x_trend[\"value\"] + np.random.uniform(low=-.4, high=.4, size=(df_x_trend.shape[0],))\n",
        "    df_x_trend[\"feature\"] = \"x_2\"\n",
        "    return pd.concat([df, df_x_trend])\n"
      ],
      "execution_count": 231,
      "outputs": []
    },
    {
      "cell_type": "code",
      "metadata": {
        "id": "IPXpgVLdMsq8",
        "colab_type": "code",
        "colab": {}
      },
      "source": [
        "def add_from_feature(df, feature_type, feature_name, top_n=10, do_split=False):\n",
        "\n",
        "    df_feature = df[df.feature == feature_name].copy()\n",
        "    df_feature.value = df_feature.value.fillna(\"\").str.lower()\n",
        "\n",
        "    df_feature[\"value_list\"] = df_feature[\"value\"].apply(lambda x: [x])\n",
        "\n",
        "    if do_split:\n",
        "        if df_feature[\"value\"].fillna(\"\").str.contains(\"\\|\").sum() > 10:\n",
        "            df_feature[\"value_list\"] = df_feature[\"value\"].str.split(\"|\")\n",
        "        else:\n",
        "            if df_feature[\"value\"].fillna(\"\").str.contains(\";\").sum() > 10:\n",
        "                df_feature[\"value_list\"] = df_feature[\"value\"].str.split(\";\")\n",
        "            else: \n",
        "                if df_feature[\"value\"].fillna(\"\").str.contains(\",\").sum() > 10:\n",
        "                    df_feature[\"value_list\"] = df_feature[\"value\"].str.split(\",\")\n",
        "\n",
        "    df_feature[\"value_list\"] = df_feature[\"value_list\"].apply(lambda x: list(set([i.strip() for i in x])))\n",
        "    df_feature = df_feature.explode(\"value_list\").reset_index(drop=True).copy()\n",
        "    df_feature = df_feature[[\"uid\",\"feature\",\"value_list\"]]\n",
        "    df_feature.columns = [\"uid\",\"feature\",\"value\"]\n",
        "    list_top_features = [f for f in df_feature.value.value_counts().index if len(f) > 1][:top_n]\n",
        "    list_df = []\n",
        "    for f in list_top_features:\n",
        "        df_tmp = df_feature[df_feature.value==f].copy()\n",
        "        df_tmp.feature = \"from_\" + feature_type + \"_\" + f.replace(\" \",\"-\")\n",
        "        df_tmp.value = 1\n",
        "        list_df.append(df_tmp)\n",
        "    return pd.concat([df] + list_df)"
      ],
      "execution_count": 246,
      "outputs": []
    },
    {
      "cell_type": "code",
      "metadata": {
        "id": "6tzFNzMz0aMP",
        "colab_type": "code",
        "colab": {}
      },
      "source": [
        "def fix_column_names(df):\n",
        "    if (df.feature==\"year\").sum() > 0 and (df.feature==\"pubyear\").sum() == 0:\n",
        "        df.loc[df.feature==\"year\", \"feature\"] = \"pubyear\"\n",
        "    return df"
      ],
      "execution_count": 240,
      "outputs": []
    },
    {
      "cell_type": "code",
      "metadata": {
        "id": "GDhVu_BKGwcI",
        "colab_type": "code",
        "colab": {}
      },
      "source": [
        "def get_data_json(df):\n",
        "    df = df.drop_duplicates(subset=[\"uid\",\"feature\"], keep=\"first\")\n",
        "    df_tabular_final = df.reset_index().pivot(index='uid', columns='feature')['value'].reset_index()\n",
        "    list_selecte_cols = [\n",
        "            \"uid\",\n",
        "            \"pubyear\",\n",
        "            \"source_title\",\n",
        "            \"doi\",\n",
        "            \"title\",\n",
        "            \"dimensions_url\",\n",
        "            \"x_1\",\n",
        "            \"y_1\",\n",
        "            \"x_2\",\n",
        "            \"y_2\",\n",
        "            \"cluster_1\",\n",
        "            \"cluster_2\",\n",
        "            ] + [c for c in df_tabular_final.columns if 'from_' in c] \n",
        "        \n",
        "    for c in list_selecte_cols:\n",
        "        if c not in df_tabular_final.columns:\n",
        "            df_tabular_final[c] = \"\"\n",
        "\n",
        "    df_data_json = df_tabular_final[list_selecte_cols].copy()\n",
        "\n",
        "    df_data_json[\"cluster_1\"] = df_data_json[\"cluster_1\"].fillna(-1)\n",
        "    for c in [c for c in df_data_json.columns if c.startswith(\"from_\")]:\n",
        "        df_data_json[c] = df_data_json[c].fillna(0)\n",
        "    \n",
        "    df_data_json = fix_data(df_data_json)\n",
        "\n",
        "    for c in df_data_json.columns:\n",
        "        # print(\"%i null values in %s replaced with ''. type: %s\" % (df_data_json[c].isna().sum(), c, df_data_json[c].dtypes))\n",
        "        df_data_json[c] = df_data_json[c].fillna('')\n",
        "\n",
        "    return df_data_json"
      ],
      "execution_count": 241,
      "outputs": []
    },
    {
      "cell_type": "code",
      "metadata": {
        "id": "72ORb697-RRi",
        "colab_type": "code",
        "colab": {}
      },
      "source": [
        "def get_meta_data_json(df_data_json, project_number, project_name, cluster_names):\n",
        "\n",
        "    df_meta_data_json = {\n",
        "        \"project_number\": project_number,\n",
        "        \"project_name\": project_name,\n",
        "        \"type\": \"rixai-network-complex\",\n",
        "        \"num-records\": df_data_json[\"uid\"].nunique(),\n",
        "    }\n",
        "\n",
        "    # get number of clusters\n",
        "    df_meta_data_json[\"cluster_list\"] = list(set([c.split(\"_\")[1] for c in df_data_json.columns if c.startswith(\"cluster_\")]))\n",
        "    for f in df_meta_data_json[\"cluster_list\"]: \n",
        "        df_meta_data_json[\"list_cluster_%s\"%f] = [c for c in df_data_json[\"cluster_%s\"%f].unique() if c != -1]\n",
        "    \n",
        "    if len(cluster_names) > 0:\n",
        "        df_meta_data_json[\"cluster_names\"] = cluster_names\n",
        "    else:\n",
        "        df_meta_data_json[\"cluster_names\"] = [\"Topic %i\"%c for c in df_meta_data_json[\"list_cluster_1\"]]\n",
        "\n",
        "\n",
        "    # get number of features\n",
        "    df_meta_data_json[\"feature_list\"] = list(set([c.split(\"_\")[1] for c in df_data_json.columns if c.startswith(\"from_\")]))\n",
        "    for f in df_meta_data_json[\"feature_list\"]: \n",
        "        list_tuple = []\n",
        "        for e in [c for c in df_data_json.columns if c.startswith(\"from_%s\"%f)]:\n",
        "            list_tuple.append((e, df_data_json[e].sum()))\n",
        "        list_tuple.sort(key=lambda tup: tup[1], reverse=True) \n",
        "        df_meta_data_json[\"list_%s\"%f] = [t[0] for t in list_tuple]\n",
        "        df_meta_data_json[\"listname_%s\"%f] = [\"%s (%i)\" % (t[0],t[1]) for t in list_tuple]\n",
        "    \n",
        "    return df_meta_data_json"
      ],
      "execution_count": 242,
      "outputs": []
    },
    {
      "cell_type": "code",
      "metadata": {
        "id": "7em98GtjFCyK",
        "colab_type": "code",
        "colab": {}
      },
      "source": [
        "def export_json_for_js(df_data_json, df_meta_data_json, data_folder_path, download_file=True):\n",
        "    json_file_name = os.path.join(data_folder_path, \"data_for_js_p%i.json\" % df_meta_data_json[\"project_number\"])\n",
        "    print(json_file_name)\n",
        "    full_json = {\n",
        "        \"meta-data\": df_meta_data_json,\n",
        "        \"data\": df_data_json.to_dict(orient='records')\n",
        "    }\n",
        "\n",
        "    def convert(o):\n",
        "        if isinstance(o, np.int64): return int(o)  \n",
        "        raise TypeError\n",
        "     \n",
        "    with open(json_file_name, 'w') as json_file:\n",
        "        json.dump(full_json, json_file, default=convert)\n",
        "\n",
        "    if download_file:\n",
        "        files.download(json_file_name) \n",
        "    return full_json"
      ],
      "execution_count": 243,
      "outputs": []
    },
    {
      "cell_type": "code",
      "metadata": {
        "id": "cBctbFsEMz8s",
        "colab_type": "code",
        "colab": {}
      },
      "source": [
        "def export_json_config(json_config, data_folder_path):\n",
        "    file_config_json = os.path.join(data_folder_path, \"config.json\")\n",
        "    with open(file_config_json, 'w') as json_file:\n",
        "        json.dump(json_config, json_file)"
      ],
      "execution_count": 244,
      "outputs": []
    },
    {
      "cell_type": "code",
      "metadata": {
        "id": "W5srG-eGRtNS",
        "colab_type": "code",
        "colab": {
          "base_uri": "https://localhost:8080/",
          "height": 1000
        },
        "outputId": "60f9be7e-34af-4f5b-8de3-a3ae8902e7aa"
      },
      "source": [
        "TOP_N = 20\n",
        "for project_number in  range(4):\n",
        "    print(\"\\n\")\n",
        "    print(\"Processing Project: %i\" % project_number)\n",
        "    print(\"-\" * 50)\n",
        "    \n",
        "    \n",
        "    data_folder_name = \"project-\" + \"0\" * (3 - len(str(project_number))) + str(project_number) + \"/data\"\n",
        "    data_folder_path = os.path.join(PROJECTS_PATH, data_folder_name)\n",
        "    json_config_file = os.path.join(data_folder_path, \"config.json\")\n",
        "    \n",
        "    if os.path.isfile(json_config_file):        \n",
        "        json_config = json.load(open(json_config_file,'r'))\n",
        "    else:\n",
        "        json_config = {\n",
        "            \"project_name\": \"Projcect Number %i\" % project_number,\n",
        "            \"num_clusters\": 5,\n",
        "            \"cluster_names\": []\n",
        "        }\n",
        "\n",
        "    print(json_config)\n",
        "    project_name = json_config.get(\"project_name\",\"Projcect Number %i\" % project_number)\n",
        "    num_clusters = json_config.get(\"num_clusters\",5)\n",
        "    cluster_names = json_config.get(\"cluster_names\", [])\n",
        "\n",
        "    df_tabular = read_data(data_folder_path)\n",
        "    df_tabular = standardize_column_names(df_tabular)\n",
        "    df_tabular = fix_data(df_tabular)\n",
        "\n",
        "    df = melt_data(df_tabular)\n",
        "    df = fix_column_names(df)\n",
        "\n",
        "    dict_stat = get_statistics(df)\n",
        "    df_keyword = get_keyword_embeddings(data_folder_path)\n",
        "    \n",
        "    df = add_text_feature(df, df[df.feature==\"source_title\"], df[df.feature==\"title\"])\n",
        "    df = add_text_embeddings(df, data_folder_path)\n",
        "    \n",
        "    df = pca_fit_transform(df, data_folder_path)\n",
        "    df = calcualte_clusters(df, num_clusters)\n",
        "    df = train_classifier(df)\n",
        "    df = add_x_trend(df)\n",
        "\n",
        "    df = add_from_feature(df, feature_type = \"org\", feature_name = \"research_organizations_standardized\", top_n=TOP_N, do_split=True)\n",
        "    df = add_from_feature(df, feature_type = \"funding\", feature_name = \"funder\", top_n=TOP_N, do_split=True)\n",
        "    df = add_from_feature(df, feature_type = \"author\", feature_name = \"authors\", top_n=TOP_N, do_split=True)\n",
        "    df = add_from_feature(df, feature_type = \"country\", feature_name = \"country_of_research_organization\", top_n=TOP_N, do_split=True)\n",
        "    df = add_from_feature(df, feature_type = \"org\", feature_name = \"affiliation\", top_n=TOP_N, do_split=True)\n",
        "    df = add_from_feature(df, feature_type = \"keyword\", feature_name = \"author_keywords\", top_n=TOP_N, do_split=True)\n",
        "    df = add_from_feature(df, feature_type = \"keyword\", feature_name = \"index_keywords\", top_n=TOP_N, do_split=True)\n",
        "    df = add_from_feature(df, feature_type = \"department\", feature_name = \"groep\", top_n=TOP_N)\n",
        "    df = add_from_feature(df, feature_type = \"source\", feature_name = \"source_title\", top_n=TOP_N, do_split=False)\n",
        "    df = add_word_feature(df, top_n=TOP_N)\n",
        "\n",
        "\n",
        "    df_data_json = get_data_json(df)\n",
        "    df_meta_data_json = get_meta_data_json(df_data_json, project_number, project_name, cluster_names)\n",
        "\n",
        "    full_json = export_json_for_js(df_data_json, df_meta_data_json, data_folder_path, download_file=True)\n",
        "\n",
        "    export_json_config(json_config, data_folder_path)\n",
        "    \n",
        "    print(dict_stat)\n",
        "    print(list(df_data_json.columns))\n",
        "    print(df_meta_data_json)"
      ],
      "execution_count": 248,
      "outputs": [
        {
          "output_type": "stream",
          "text": [
            "\n",
            "\n",
            "Processing Project: 0\n",
            "--------------------------------------------------\n",
            "{'project_name': 'Dutch Research Landscape of COVID19', 'num_clusters': 5, 'cluster_names': []}\n",
            "780 rows with 33 columns is read from /content/drive/My Drive/Freelancing/rixai/projects/project-000/data\n",
            "column names standardized\n",
            "0 rows removed to fix data.\n",
            "data is melted\n",
            "keyword embedding loaded from file.\n",
            "text embedding loaded from file.\n",
            "Model for PCA 2D is loaded from file.\n",
            "Model for PCA 1D is loaded from file.\n",
            "Model for Logistic Regression is loaded from file.\n",
            "0 rows removed to fix data.\n",
            "/content/drive/My Drive/Freelancing/rixai/projects/project-000/data/data_for_js_p0.json\n"
          ],
          "name": "stdout"
        },
        {
          "output_type": "display_data",
          "data": {
            "application/javascript": [
              "\n",
              "    async function download(id, filename, size) {\n",
              "      if (!google.colab.kernel.accessAllowed) {\n",
              "        return;\n",
              "      }\n",
              "      const div = document.createElement('div');\n",
              "      const label = document.createElement('label');\n",
              "      label.textContent = `Downloading \"${filename}\": `;\n",
              "      div.appendChild(label);\n",
              "      const progress = document.createElement('progress');\n",
              "      progress.max = size;\n",
              "      div.appendChild(progress);\n",
              "      document.body.appendChild(div);\n",
              "\n",
              "      const buffers = [];\n",
              "      let downloaded = 0;\n",
              "\n",
              "      const channel = await google.colab.kernel.comms.open(id);\n",
              "      // Send a message to notify the kernel that we're ready.\n",
              "      channel.send({})\n",
              "\n",
              "      for await (const message of channel.messages) {\n",
              "        // Send a message to notify the kernel that we're ready.\n",
              "        channel.send({})\n",
              "        if (message.buffers) {\n",
              "          for (const buffer of message.buffers) {\n",
              "            buffers.push(buffer);\n",
              "            downloaded += buffer.byteLength;\n",
              "            progress.value = downloaded;\n",
              "          }\n",
              "        }\n",
              "      }\n",
              "      const blob = new Blob(buffers, {type: 'application/binary'});\n",
              "      const a = document.createElement('a');\n",
              "      a.href = window.URL.createObjectURL(blob);\n",
              "      a.download = filename;\n",
              "      div.appendChild(a);\n",
              "      a.click();\n",
              "      div.remove();\n",
              "    }\n",
              "  "
            ],
            "text/plain": [
              "<IPython.core.display.Javascript object>"
            ]
          },
          "metadata": {
            "tags": []
          }
        },
        {
          "output_type": "display_data",
          "data": {
            "application/javascript": [
              "download(\"download_ae556b0f-edff-4cb5-8ced-fa392bcab3d8\", \"data_for_js_p0.json\", 3868220)"
            ],
            "text/plain": [
              "<IPython.core.display.Javascript object>"
            ]
          },
          "metadata": {
            "tags": []
          }
        },
        {
          "output_type": "stream",
          "text": [
            "{'df_size': (25740, 3), 'df_num_uid': 780, 'df_num_features': 33}\n",
            "['uid', 'pubyear', 'source_title', 'doi', 'title', 'dimensions_url', 'x_1', 'y_1', 'x_2', 'y_2', 'cluster_1', 'cluster_2', 'from_author_bosch,-berend-jan', 'from_author_bouaziz,-bassem', 'from_author_de-mast,-quirijn', 'from_author_drosten,-christian', 'from_author_epstein,-monique', 'from_author_gargouri,-faiez', 'from_author_haagmans,-bart', 'from_author_haagmans,-bart-l.', 'from_author_jmail,-mohamed', 'from_author_koopmans,-marion', 'from_author_li,-wentao', 'from_author_mcaleer,-michael', 'from_author_meijer,-adam', 'from_author_molenkamp,-richard', 'from_author_netea,-mihai-g.', 'from_author_sanderman,-robbert', 'from_author_snijder,-eric-j.', 'from_author_van-crevel,-reinout', 'from_author_van-de-veerdonk,-frank-l.', 'from_author_wallinga,-jacco', 'from_country_australia', 'from_country_austria', 'from_country_belgium', 'from_country_brazil', 'from_country_canada', 'from_country_china', 'from_country_denmark', 'from_country_france', 'from_country_germany', 'from_country_greece', 'from_country_italy', 'from_country_netherlands', 'from_country_poland', 'from_country_portugal', 'from_country_singapore', 'from_country_spain', 'from_country_sweden', 'from_country_switzerland', 'from_country_united-kingdom', 'from_country_united-states', 'from_funding_australian-research-council', 'from_funding_bill-&-melinda-gates-foundation', 'from_funding_boehringer-ingelheim-(germany)', 'from_funding_bristol-myers-squibb-(united-states)', 'from_funding_dutch-heart-foundation', 'from_funding_dutch-research-council', 'from_funding_european-commission', 'from_funding_european-research-council', 'from_funding_federal-ministry-of-education-and-research', 'from_funding_german-research-foundation', 'from_funding_johnson-&-johnson-(united-states)', 'from_funding_medical-research-council', 'from_funding_ministry-of-health-welfare-and-sport', 'from_funding_national-cancer-institute', 'from_funding_national-institute-for-health-research', 'from_funding_national-institute-of-allergy-and-infectious-diseases', 'from_funding_national-natural-science-foundation-of-china', 'from_funding_netherlands-organisation-for-health-research-and-development', 'from_funding_novartis-(switzerland)', 'from_funding_wellcome-trust', 'from_org_erasmus-university-medical-center', 'from_org_erasmus-university-rotterdam', 'from_org_imperial-college-london', \"from_org_king's-college-london\", 'from_org_ku-leuven', 'from_org_leiden-university', 'from_org_leiden-university-medical-center', 'from_org_maastricht-university', 'from_org_maastricht-university-medical-centre', 'from_org_national-institute-for-public-health-and-the-environment', 'from_org_radboud-university-nijmegen', 'from_org_radboud-university-nijmegen-medical-centre', 'from_org_stanford-university', 'from_org_university-medical-center-groningen', 'from_org_university-medical-center-utrecht', 'from_org_university-of-amsterdam', 'from_org_university-of-groningen', 'from_org_university-of-oxford', 'from_org_utrecht-university', 'from_org_vu-amsterdam', 'from_source_biorxiv', 'from_source_bone-marrow-transplantation', 'from_source_critical-care', 'from_source_european-heart-journal', 'from_source_european-journal-of-endocrinology', 'from_source_european-journal-of-risk-regulation', 'from_source_european-respiratory-journal', 'from_source_eurosurveillance', 'from_source_intensive-care-medicine', 'from_source_international-journal-of-environmental-research-and-public-health', 'from_source_journal-of-the-european-academy-of-dermatology-and-venereology', 'from_source_medrxiv', 'from_source_nature-medicine', 'from_source_nederlands-tijdschrift-voor-geneeskunde', 'from_source_radiotherapy-and-oncology', 'from_source_research-square', 'from_source_science', 'from_source_ssrn-electronic-journal', 'from_source_the-lancet', 'from_source_thrombosis-research', 'from_word_analysis', 'from_word_cancer', 'from_word_control', 'from_word_cov', 'from_word_crisis', 'from_word_european', 'from_word_healthcare', 'from_word_hospital', 'from_word_human', 'from_word_international', 'from_word_management', 'from_word_patient', 'from_word_recommendation', 'from_word_research', 'from_word_review', 'from_word_sars', 'from_word_survey', 'from_word_treatment', 'from_word_trial', 'from_word_using']\n",
            "{'project_number': 0, 'project_name': 'Dutch Research Landscape of COVID19', 'type': 'rixai-network-complex', 'num-records': 780, 'cluster_list': ['1', '2'], 'list_cluster_1': [2, 1, 3, 0, 4], 'list_cluster_2': ['', 2, 1, 3, 0, 4], 'cluster_names': ['Topic 2', 'Topic 1', 'Topic 3', 'Topic 0', 'Topic 4'], 'feature_list': ['source', 'org', 'funding', 'country', 'word', 'author'], 'list_source': ['from_source_medrxiv', 'from_source_ssrn-electronic-journal', 'from_source_biorxiv', 'from_source_research-square', 'from_source_eurosurveillance', 'from_source_nederlands-tijdschrift-voor-geneeskunde', 'from_source_european-heart-journal', 'from_source_science', 'from_source_bone-marrow-transplantation', 'from_source_european-journal-of-endocrinology', 'from_source_intensive-care-medicine', 'from_source_international-journal-of-environmental-research-and-public-health', 'from_source_the-lancet', 'from_source_critical-care', 'from_source_european-journal-of-risk-regulation', 'from_source_journal-of-the-european-academy-of-dermatology-and-venereology', 'from_source_nature-medicine', 'from_source_radiotherapy-and-oncology', 'from_source_thrombosis-research', 'from_source_european-respiratory-journal'], 'listname_source': ['from_source_medrxiv (81)', 'from_source_ssrn-electronic-journal (39)', 'from_source_biorxiv (35)', 'from_source_research-square (14)', 'from_source_eurosurveillance (10)', 'from_source_nederlands-tijdschrift-voor-geneeskunde (9)', 'from_source_european-heart-journal (7)', 'from_source_science (7)', 'from_source_bone-marrow-transplantation (6)', 'from_source_european-journal-of-endocrinology (6)', 'from_source_intensive-care-medicine (6)', 'from_source_international-journal-of-environmental-research-and-public-health (6)', 'from_source_the-lancet (6)', 'from_source_critical-care (5)', 'from_source_european-journal-of-risk-regulation (5)', 'from_source_journal-of-the-european-academy-of-dermatology-and-venereology (5)', 'from_source_nature-medicine (5)', 'from_source_radiotherapy-and-oncology (5)', 'from_source_thrombosis-research (5)', 'from_source_european-respiratory-journal (4)'], 'list_org': ['from_org_erasmus-university-medical-center', 'from_org_university-of-amsterdam', 'from_org_leiden-university-medical-center', 'from_org_radboud-university-nijmegen-medical-centre', 'from_org_utrecht-university', 'from_org_maastricht-university', 'from_org_university-medical-center-utrecht', 'from_org_erasmus-university-rotterdam', 'from_org_national-institute-for-public-health-and-the-environment', 'from_org_university-of-groningen', 'from_org_vu-amsterdam', 'from_org_university-of-oxford', 'from_org_radboud-university-nijmegen', 'from_org_maastricht-university-medical-centre', 'from_org_university-medical-center-groningen', 'from_org_ku-leuven', 'from_org_imperial-college-london', \"from_org_king's-college-london\", 'from_org_leiden-university', 'from_org_stanford-university'], 'listname_org': ['from_org_erasmus-university-medical-center (121)', 'from_org_university-of-amsterdam (101)', 'from_org_leiden-university-medical-center (87)', 'from_org_radboud-university-nijmegen-medical-centre (74)', 'from_org_utrecht-university (59)', 'from_org_maastricht-university (52)', 'from_org_university-medical-center-utrecht (37)', 'from_org_erasmus-university-rotterdam (34)', 'from_org_national-institute-for-public-health-and-the-environment (32)', 'from_org_university-of-groningen (32)', 'from_org_vu-amsterdam (32)', 'from_org_university-of-oxford (31)', 'from_org_radboud-university-nijmegen (27)', 'from_org_maastricht-university-medical-centre (25)', 'from_org_university-medical-center-groningen (24)', 'from_org_ku-leuven (22)', 'from_org_imperial-college-london (21)', \"from_org_king's-college-london (19)\", 'from_org_leiden-university (19)', 'from_org_stanford-university (19)'], 'list_funding': ['from_funding_european-commission', 'from_funding_european-research-council', 'from_funding_dutch-research-council', 'from_funding_national-institute-for-health-research', 'from_funding_german-research-foundation', 'from_funding_national-institute-of-allergy-and-infectious-diseases', 'from_funding_bill-&-melinda-gates-foundation', 'from_funding_federal-ministry-of-education-and-research', 'from_funding_johnson-&-johnson-(united-states)', 'from_funding_national-natural-science-foundation-of-china', 'from_funding_novartis-(switzerland)', 'from_funding_australian-research-council', 'from_funding_boehringer-ingelheim-(germany)', 'from_funding_bristol-myers-squibb-(united-states)', 'from_funding_dutch-heart-foundation', 'from_funding_medical-research-council', 'from_funding_ministry-of-health-welfare-and-sport', 'from_funding_national-cancer-institute', 'from_funding_netherlands-organisation-for-health-research-and-development', 'from_funding_wellcome-trust'], 'listname_funding': ['from_funding_european-commission (29)', 'from_funding_european-research-council (16)', 'from_funding_dutch-research-council (15)', 'from_funding_national-institute-for-health-research (10)', 'from_funding_german-research-foundation (9)', 'from_funding_national-institute-of-allergy-and-infectious-diseases (9)', 'from_funding_bill-&-melinda-gates-foundation (5)', 'from_funding_federal-ministry-of-education-and-research (5)', 'from_funding_johnson-&-johnson-(united-states) (5)', 'from_funding_national-natural-science-foundation-of-china (5)', 'from_funding_novartis-(switzerland) (5)', 'from_funding_australian-research-council (4)', 'from_funding_boehringer-ingelheim-(germany) (4)', 'from_funding_bristol-myers-squibb-(united-states) (4)', 'from_funding_dutch-heart-foundation (4)', 'from_funding_medical-research-council (4)', 'from_funding_ministry-of-health-welfare-and-sport (4)', 'from_funding_national-cancer-institute (4)', 'from_funding_netherlands-organisation-for-health-research-and-development (4)', 'from_funding_wellcome-trust (4)'], 'list_country': ['from_country_netherlands', 'from_country_united-kingdom', 'from_country_united-states', 'from_country_germany', 'from_country_italy', 'from_country_france', 'from_country_australia', 'from_country_belgium', 'from_country_canada', 'from_country_spain', 'from_country_china', 'from_country_switzerland', 'from_country_sweden', 'from_country_denmark', 'from_country_brazil', 'from_country_austria', 'from_country_portugal', 'from_country_greece', 'from_country_singapore', 'from_country_poland'], 'listname_country': ['from_country_netherlands (780)', 'from_country_united-kingdom (222)', 'from_country_united-states (181)', 'from_country_germany (144)', 'from_country_italy (128)', 'from_country_france (90)', 'from_country_australia (78)', 'from_country_belgium (76)', 'from_country_canada (76)', 'from_country_spain (76)', 'from_country_china (70)', 'from_country_switzerland (58)', 'from_country_sweden (52)', 'from_country_denmark (47)', 'from_country_brazil (36)', 'from_country_austria (34)', 'from_country_portugal (33)', 'from_country_greece (31)', 'from_country_singapore (31)', 'from_country_poland (28)'], 'list_word': ['from_word_cov', 'from_word_patient', 'from_word_management', 'from_word_european', 'from_word_analysis', 'from_word_international', 'from_word_crisis', 'from_word_using', 'from_word_hospital', 'from_word_human', 'from_word_research', 'from_word_review', 'from_word_control', 'from_word_recommendation', 'from_word_treatment', 'from_word_survey', 'from_word_sars', 'from_word_trial', 'from_word_healthcare', 'from_word_cancer'], 'listname_word': ['from_word_cov (540)', 'from_word_patient (97)', 'from_word_management (42)', 'from_word_european (36)', 'from_word_analysis (34)', 'from_word_international (33)', 'from_word_crisis (28)', 'from_word_using (26)', 'from_word_hospital (25)', 'from_word_human (25)', 'from_word_research (25)', 'from_word_review (24)', 'from_word_control (22)', 'from_word_recommendation (22)', 'from_word_treatment (22)', 'from_word_survey (19)', 'from_word_sars (18)', 'from_word_trial (18)', 'from_word_healthcare (17)', 'from_word_cancer (16)'], 'list_author': ['from_author_koopmans,-marion', 'from_author_netea,-mihai-g.', 'from_author_haagmans,-bart-l.', 'from_author_drosten,-christian', 'from_author_meijer,-adam', 'from_author_molenkamp,-richard', 'from_author_snijder,-eric-j.', 'from_author_van-de-veerdonk,-frank-l.', 'from_author_bosch,-berend-jan', 'from_author_de-mast,-quirijn', 'from_author_haagmans,-bart', 'from_author_li,-wentao', 'from_author_mcaleer,-michael', 'from_author_van-crevel,-reinout', 'from_author_wallinga,-jacco', 'from_author_bouaziz,-bassem', 'from_author_epstein,-monique', 'from_author_gargouri,-faiez', 'from_author_jmail,-mohamed', 'from_author_sanderman,-robbert'], 'listname_author': ['from_author_koopmans,-marion (17)', 'from_author_netea,-mihai-g. (14)', 'from_author_haagmans,-bart-l. (12)', 'from_author_drosten,-christian (9)', 'from_author_meijer,-adam (8)', 'from_author_molenkamp,-richard (7)', 'from_author_snijder,-eric-j. (7)', 'from_author_van-de-veerdonk,-frank-l. (7)', 'from_author_bosch,-berend-jan (6)', 'from_author_de-mast,-quirijn (6)', 'from_author_haagmans,-bart (6)', 'from_author_li,-wentao (6)', 'from_author_mcaleer,-michael (6)', 'from_author_van-crevel,-reinout (6)', 'from_author_wallinga,-jacco (6)', 'from_author_bouaziz,-bassem (5)', 'from_author_epstein,-monique (5)', 'from_author_gargouri,-faiez (5)', 'from_author_jmail,-mohamed (5)', 'from_author_sanderman,-robbert (5)']}\n",
            "\n",
            "\n",
            "Processing Project: 1\n",
            "--------------------------------------------------\n",
            "{'project_name': 'Projcect Number 1', 'num_clusters': 5, 'cluster_names': ['Policy', 'Market', 'Child', 'Health', 'Operational Research']}\n",
            "5220 rows with 52 columns is read from /content/drive/My Drive/Freelancing/rixai/projects/project-001/data\n",
            "column names standardized\n",
            "220 rows removed to fix data.\n",
            "data is melted\n",
            "keyword embedding loaded from file.\n",
            "text embedding loaded from file.\n",
            "Model for PCA 2D is loaded from file.\n",
            "Model for PCA 1D is loaded from file.\n",
            "Model for Logistic Regression is loaded from file.\n",
            "0 rows removed to fix data.\n",
            "/content/drive/My Drive/Freelancing/rixai/projects/project-001/data/data_for_js_p1.json\n"
          ],
          "name": "stdout"
        },
        {
          "output_type": "display_data",
          "data": {
            "application/javascript": [
              "\n",
              "    async function download(id, filename, size) {\n",
              "      if (!google.colab.kernel.accessAllowed) {\n",
              "        return;\n",
              "      }\n",
              "      const div = document.createElement('div');\n",
              "      const label = document.createElement('label');\n",
              "      label.textContent = `Downloading \"${filename}\": `;\n",
              "      div.appendChild(label);\n",
              "      const progress = document.createElement('progress');\n",
              "      progress.max = size;\n",
              "      div.appendChild(progress);\n",
              "      document.body.appendChild(div);\n",
              "\n",
              "      const buffers = [];\n",
              "      let downloaded = 0;\n",
              "\n",
              "      const channel = await google.colab.kernel.comms.open(id);\n",
              "      // Send a message to notify the kernel that we're ready.\n",
              "      channel.send({})\n",
              "\n",
              "      for await (const message of channel.messages) {\n",
              "        // Send a message to notify the kernel that we're ready.\n",
              "        channel.send({})\n",
              "        if (message.buffers) {\n",
              "          for (const buffer of message.buffers) {\n",
              "            buffers.push(buffer);\n",
              "            downloaded += buffer.byteLength;\n",
              "            progress.value = downloaded;\n",
              "          }\n",
              "        }\n",
              "      }\n",
              "      const blob = new Blob(buffers, {type: 'application/binary'});\n",
              "      const a = document.createElement('a');\n",
              "      a.href = window.URL.createObjectURL(blob);\n",
              "      a.download = filename;\n",
              "      div.appendChild(a);\n",
              "      a.click();\n",
              "      div.remove();\n",
              "    }\n",
              "  "
            ],
            "text/plain": [
              "<IPython.core.display.Javascript object>"
            ]
          },
          "metadata": {
            "tags": []
          }
        },
        {
          "output_type": "display_data",
          "data": {
            "application/javascript": [
              "download(\"download_f310dfcd-d660-495d-bded-53ee3b2b781b\", \"data_for_js_p1.json\", 25372283)"
            ],
            "text/plain": [
              "<IPython.core.display.Javascript object>"
            ]
          },
          "metadata": {
            "tags": []
          }
        },
        {
          "output_type": "stream",
          "text": [
            "{'df_size': (260000, 3), 'df_num_uid': 5000, 'df_num_features': 52}\n",
            "['uid', 'pubyear', 'source_title', 'doi', 'title', 'dimensions_url', 'x_1', 'y_1', 'x_2', 'y_2', 'cluster_1', 'cluster_2', 'from_author_bakermans-kranenburg,-marian-j.', 'from_author_bakker,-arnold-b.', 'from_author_bal,-roland', 'from_author_de-koster,-rené', 'from_author_dekker,-rommert', 'from_author_frantzeskaki,-niki', 'from_author_frasincar,-flavius', 'from_author_mcaleer,-michael', 'from_author_paas,-fred', 'from_author_prinzie,-peter', 'from_author_scholten,-peter', 'from_author_serruys,-patrick', 'from_author_tiemeier,-henning', 'from_author_van-der-linden,-dimitri', 'from_author_van-doorslaer,-eddy', 'from_author_van-exel,-job', 'from_author_van-gog,-tamara', 'from_author_van-ijzendoorn,-marinus-h.', 'from_author_verhulst,-frank-c.', 'from_author_zwart,-h.-a.-e.', 'from_country_australia', 'from_country_austria', 'from_country_belgium', 'from_country_canada', 'from_country_china', 'from_country_denmark', 'from_country_finland', 'from_country_france', 'from_country_germany', 'from_country_italy', 'from_country_japan', 'from_country_netherlands', 'from_country_singapore', 'from_country_south-africa', 'from_country_spain', 'from_country_sweden', 'from_country_switzerland', 'from_country_taiwan', 'from_country_united-kingdom', 'from_country_united-states', 'from_department_dpas', 'from_department_dpecs', 'from_department_euc', 'from_funding_australian-research-council', 'from_funding_dutch-research-council', 'from_funding_economic-and-social-research-council', 'from_funding_european-commission', 'from_funding_european-research-council', 'from_funding_german-research-foundation', 'from_funding_medical-research-council', 'from_funding_ministry-of-education-culture-and-science', 'from_funding_ministry-of-health-welfare-and-sport', 'from_funding_ministry-of-science-and-technology', 'from_funding_national-institute-for-health-research', 'from_funding_national-institute-of-child-health-and-human-development', 'from_funding_national-institute-of-mental-health', 'from_funding_national-institute-on-aging', 'from_funding_national-natural-science-foundation-of-china', 'from_funding_netherlands-organisation-for-health-research-and-development', 'from_funding_research-foundation---flanders', 'from_funding_swiss-national-science-foundation', 'from_funding_wellcome-trust', 'from_funding_world-health-organization', 'from_org_delft-university-of-technology', 'from_org_eindhoven-university-of-technology', 'from_org_erasmus-university-medical-center', 'from_org_erasmus-university-rotterdam', 'from_org_harvard-university', 'from_org_ku-leuven', 'from_org_leiden-university', 'from_org_leiden-university-medical-center', 'from_org_maastricht-university', 'from_org_radboud-university-nijmegen', 'from_org_radboud-university-nijmegen-medical-centre', 'from_org_tilburg-university', 'from_org_university-medical-center-groningen', 'from_org_university-medical-center-utrecht', 'from_org_university-of-amsterdam', 'from_org_university-of-groningen', 'from_org_university-of-sydney', 'from_org_utrecht-university', 'from_org_vu-amsterdam', 'from_org_vu-university-medical-center', 'from_source_applied-cognitive-psychology', 'from_source_bmc-health-services-research', 'from_source_bmj-open', 'from_source_european-journal-of-operational-research', 'from_source_european-journal-of-public-health', 'from_source_frontiers-in-psychology', 'from_source_health-economics', 'from_source_health-policy', 'from_source_international-journal-of-integrated-care', 'from_source_journal-of-business-ethics', 'from_source_journal-of-cleaner-production', 'from_source_journal-of-the-american-college-of-cardiology', 'from_source_lecture-notes-in-computer-science', 'from_source_pharmacoeconomics', 'from_source_plos-one', 'from_source_social-science-&-medicine', 'from_source_ssrn-electronic-journal', 'from_source_sustainability', 'from_source_the-european-journal-of-health-economics', 'from_source_value-in-health', 'from_word_among', 'from_word_analysis', 'from_word_approach', 'from_word_child', 'from_word_decision', 'from_word_dutch', 'from_word_effectiveness', 'from_word_effects', 'from_word_european', 'from_word_evidence', 'from_word_health', 'from_word_learning', 'from_word_management', 'from_word_market', 'from_word_model', 'from_word_perspective', 'from_word_policy', 'from_word_research', 'from_word_social', 'from_word_treatment']\n",
            "{'project_number': 1, 'project_name': 'Projcect Number 1', 'type': 'rixai-network-complex', 'num-records': 5000, 'cluster_list': ['1', '2'], 'list_cluster_1': [1, 3, 2, 4, 0], 'list_cluster_2': [1, 3, 2, 4, 0], 'cluster_names': ['Policy', 'Market', 'Child', 'Health', 'Operational Research'], 'feature_list': ['department', 'org', 'source', 'funding', 'country', 'word', 'author'], 'list_department': ['from_department_dpecs', 'from_department_dpas', 'from_department_euc'], 'listname_department': ['from_department_dpecs (472)', 'from_department_dpas (207)', 'from_department_euc (25)'], 'list_org': ['from_org_erasmus-university-rotterdam', 'from_org_erasmus-university-medical-center', 'from_org_utrecht-university', 'from_org_vu-amsterdam', 'from_org_university-of-amsterdam', 'from_org_leiden-university', 'from_org_tilburg-university', 'from_org_maastricht-university', 'from_org_university-of-groningen', 'from_org_harvard-university', 'from_org_ku-leuven', 'from_org_leiden-university-medical-center', 'from_org_delft-university-of-technology', 'from_org_radboud-university-nijmegen', 'from_org_radboud-university-nijmegen-medical-centre', 'from_org_vu-university-medical-center', 'from_org_university-medical-center-utrecht', 'from_org_university-of-sydney', 'from_org_eindhoven-university-of-technology', 'from_org_university-medical-center-groningen'], 'listname_org': ['from_org_erasmus-university-rotterdam (4998)', 'from_org_erasmus-university-medical-center (351)', 'from_org_utrecht-university (229)', 'from_org_vu-amsterdam (206)', 'from_org_university-of-amsterdam (172)', 'from_org_leiden-university (137)', 'from_org_tilburg-university (135)', 'from_org_maastricht-university (102)', 'from_org_university-of-groningen (99)', 'from_org_harvard-university (85)', 'from_org_ku-leuven (85)', 'from_org_leiden-university-medical-center (83)', 'from_org_delft-university-of-technology (80)', 'from_org_radboud-university-nijmegen (79)', 'from_org_radboud-university-nijmegen-medical-centre (79)', 'from_org_vu-university-medical-center (76)', 'from_org_university-medical-center-utrecht (75)', 'from_org_university-of-sydney (74)', 'from_org_eindhoven-university-of-technology (68)', 'from_org_university-medical-center-groningen (66)'], 'list_source': ['from_source_ssrn-electronic-journal', 'from_source_value-in-health', 'from_source_plos-one', 'from_source_european-journal-of-operational-research', 'from_source_the-european-journal-of-health-economics', 'from_source_sustainability', 'from_source_frontiers-in-psychology', 'from_source_health-economics', 'from_source_bmj-open', 'from_source_international-journal-of-integrated-care', 'from_source_journal-of-business-ethics', 'from_source_pharmacoeconomics', 'from_source_bmc-health-services-research', 'from_source_journal-of-the-american-college-of-cardiology', 'from_source_health-policy', 'from_source_social-science-&-medicine', 'from_source_european-journal-of-public-health', 'from_source_journal-of-cleaner-production', 'from_source_applied-cognitive-psychology', 'from_source_lecture-notes-in-computer-science'], 'listname_source': ['from_source_ssrn-electronic-journal (347)', 'from_source_value-in-health (129)', 'from_source_plos-one (57)', 'from_source_european-journal-of-operational-research (47)', 'from_source_the-european-journal-of-health-economics (37)', 'from_source_sustainability (32)', 'from_source_frontiers-in-psychology (30)', 'from_source_health-economics (30)', 'from_source_bmj-open (27)', 'from_source_international-journal-of-integrated-care (25)', 'from_source_journal-of-business-ethics (25)', 'from_source_pharmacoeconomics (25)', 'from_source_bmc-health-services-research (24)', 'from_source_journal-of-the-american-college-of-cardiology (24)', 'from_source_health-policy (22)', 'from_source_social-science-&-medicine (22)', 'from_source_european-journal-of-public-health (21)', 'from_source_journal-of-cleaner-production (21)', 'from_source_applied-cognitive-psychology (18)', 'from_source_lecture-notes-in-computer-science (18)'], 'list_funding': ['from_funding_dutch-research-council', 'from_funding_european-commission', 'from_funding_netherlands-organisation-for-health-research-and-development', 'from_funding_european-research-council', 'from_funding_medical-research-council', 'from_funding_australian-research-council', 'from_funding_national-institute-on-aging', 'from_funding_economic-and-social-research-council', 'from_funding_national-institute-for-health-research', 'from_funding_german-research-foundation', 'from_funding_national-natural-science-foundation-of-china', 'from_funding_national-institute-of-mental-health', 'from_funding_wellcome-trust', 'from_funding_ministry-of-education-culture-and-science', 'from_funding_ministry-of-health-welfare-and-sport', 'from_funding_national-institute-of-child-health-and-human-development', 'from_funding_swiss-national-science-foundation', 'from_funding_world-health-organization', 'from_funding_ministry-of-science-and-technology', 'from_funding_research-foundation---flanders'], 'listname_funding': ['from_funding_dutch-research-council (317)', 'from_funding_european-commission (202)', 'from_funding_netherlands-organisation-for-health-research-and-development (167)', 'from_funding_european-research-council (119)', 'from_funding_medical-research-council (61)', 'from_funding_australian-research-council (44)', 'from_funding_national-institute-on-aging (42)', 'from_funding_economic-and-social-research-council (38)', 'from_funding_national-institute-for-health-research (34)', 'from_funding_german-research-foundation (29)', 'from_funding_national-natural-science-foundation-of-china (28)', 'from_funding_national-institute-of-mental-health (27)', 'from_funding_wellcome-trust (26)', 'from_funding_ministry-of-education-culture-and-science (25)', 'from_funding_ministry-of-health-welfare-and-sport (22)', 'from_funding_national-institute-of-child-health-and-human-development (22)', 'from_funding_swiss-national-science-foundation (21)', 'from_funding_world-health-organization (20)', 'from_funding_ministry-of-science-and-technology (19)', 'from_funding_research-foundation---flanders (15)'], 'list_country': ['from_country_netherlands', 'from_country_united-states', 'from_country_united-kingdom', 'from_country_germany', 'from_country_australia', 'from_country_belgium', 'from_country_spain', 'from_country_italy', 'from_country_china', 'from_country_france', 'from_country_canada', 'from_country_sweden', 'from_country_switzerland', 'from_country_denmark', 'from_country_japan', 'from_country_finland', 'from_country_austria', 'from_country_south-africa', 'from_country_taiwan', 'from_country_singapore'], 'listname_country': ['from_country_netherlands (4998)', 'from_country_united-states (669)', 'from_country_united-kingdom (578)', 'from_country_germany (430)', 'from_country_australia (316)', 'from_country_belgium (263)', 'from_country_spain (214)', 'from_country_italy (189)', 'from_country_china (180)', 'from_country_france (164)', 'from_country_canada (157)', 'from_country_sweden (137)', 'from_country_switzerland (121)', 'from_country_denmark (102)', 'from_country_japan (84)', 'from_country_finland (79)', 'from_country_austria (72)', 'from_country_south-africa (72)', 'from_country_taiwan (72)', 'from_country_singapore (69)'], 'list_word': ['from_word_health', 'from_word_analysis', 'from_word_child', 'from_word_social', 'from_word_model', 'from_word_effects', 'from_word_evidence', 'from_word_management', 'from_word_dutch', 'from_word_policy', 'from_word_market', 'from_word_approach', 'from_word_research', 'from_word_effectiveness', 'from_word_learning', 'from_word_perspective', 'from_word_treatment', 'from_word_decision', 'from_word_european', 'from_word_among'], 'listname_word': ['from_word_health (371)', 'from_word_analysis (277)', 'from_word_child (203)', 'from_word_social (202)', 'from_word_model (198)', 'from_word_effects (171)', 'from_word_evidence (167)', 'from_word_management (155)', 'from_word_dutch (148)', 'from_word_policy (148)', 'from_word_market (132)', 'from_word_approach (131)', 'from_word_research (126)', 'from_word_effectiveness (117)', 'from_word_learning (115)', 'from_word_perspective (115)', 'from_word_treatment (111)', 'from_word_decision (109)', 'from_word_european (107)', 'from_word_among (105)'], 'list_author': ['from_author_tiemeier,-henning', 'from_author_bakker,-arnold-b.', 'from_author_mcaleer,-michael', 'from_author_paas,-fred', 'from_author_frantzeskaki,-niki', 'from_author_van-exel,-job', 'from_author_van-ijzendoorn,-marinus-h.', 'from_author_bal,-roland', 'from_author_van-der-linden,-dimitri', 'from_author_prinzie,-peter', 'from_author_de-koster,-rené', 'from_author_van-gog,-tamara', 'from_author_van-doorslaer,-eddy', 'from_author_verhulst,-frank-c.', 'from_author_bakermans-kranenburg,-marian-j.', 'from_author_dekker,-rommert', 'from_author_scholten,-peter', 'from_author_serruys,-patrick', 'from_author_zwart,-h.-a.-e.', 'from_author_frasincar,-flavius'], 'listname_author': ['from_author_tiemeier,-henning (70)', 'from_author_bakker,-arnold-b. (60)', 'from_author_mcaleer,-michael (53)', 'from_author_paas,-fred (50)', 'from_author_frantzeskaki,-niki (40)', 'from_author_van-exel,-job (40)', 'from_author_van-ijzendoorn,-marinus-h. (35)', 'from_author_bal,-roland (34)', 'from_author_van-der-linden,-dimitri (34)', 'from_author_prinzie,-peter (30)', 'from_author_de-koster,-rené (29)', 'from_author_van-gog,-tamara (29)', 'from_author_van-doorslaer,-eddy (25)', 'from_author_verhulst,-frank-c. (24)', 'from_author_bakermans-kranenburg,-marian-j. (23)', 'from_author_dekker,-rommert (22)', 'from_author_scholten,-peter (22)', 'from_author_serruys,-patrick (22)', 'from_author_zwart,-h.-a.-e. (22)', 'from_author_frasincar,-flavius (21)']}\n",
            "\n",
            "\n",
            "Processing Project: 2\n",
            "--------------------------------------------------\n",
            "{'project_name': 'Transport and Logistics', 'num_clusters': 4, 'cluster_names': ['Planning and Control', 'Bulk Solids', 'Inventory Control', 'Operational Research']}\n",
            "834 rows with 45 columns is read from /content/drive/My Drive/Freelancing/rixai/projects/project-002/data\n",
            "column names standardized\n",
            "0 rows removed to fix data.\n",
            "data is melted\n",
            "cannot import keyword embedding\n",
            "text embedding loaded from file.\n",
            "Model for PCA 2D is loaded from file.\n",
            "Model for PCA 1D is loaded from file.\n",
            "Model for Logistic Regression is loaded from file.\n",
            "0 rows removed to fix data.\n",
            "/content/drive/My Drive/Freelancing/rixai/projects/project-002/data/data_for_js_p2.json\n"
          ],
          "name": "stdout"
        },
        {
          "output_type": "display_data",
          "data": {
            "application/javascript": [
              "\n",
              "    async function download(id, filename, size) {\n",
              "      if (!google.colab.kernel.accessAllowed) {\n",
              "        return;\n",
              "      }\n",
              "      const div = document.createElement('div');\n",
              "      const label = document.createElement('label');\n",
              "      label.textContent = `Downloading \"${filename}\": `;\n",
              "      div.appendChild(label);\n",
              "      const progress = document.createElement('progress');\n",
              "      progress.max = size;\n",
              "      div.appendChild(progress);\n",
              "      document.body.appendChild(div);\n",
              "\n",
              "      const buffers = [];\n",
              "      let downloaded = 0;\n",
              "\n",
              "      const channel = await google.colab.kernel.comms.open(id);\n",
              "      // Send a message to notify the kernel that we're ready.\n",
              "      channel.send({})\n",
              "\n",
              "      for await (const message of channel.messages) {\n",
              "        // Send a message to notify the kernel that we're ready.\n",
              "        channel.send({})\n",
              "        if (message.buffers) {\n",
              "          for (const buffer of message.buffers) {\n",
              "            buffers.push(buffer);\n",
              "            downloaded += buffer.byteLength;\n",
              "            progress.value = downloaded;\n",
              "          }\n",
              "        }\n",
              "      }\n",
              "      const blob = new Blob(buffers, {type: 'application/binary'});\n",
              "      const a = document.createElement('a');\n",
              "      a.href = window.URL.createObjectURL(blob);\n",
              "      a.download = filename;\n",
              "      div.appendChild(a);\n",
              "      a.click();\n",
              "      div.remove();\n",
              "    }\n",
              "  "
            ],
            "text/plain": [
              "<IPython.core.display.Javascript object>"
            ]
          },
          "metadata": {
            "tags": []
          }
        },
        {
          "output_type": "display_data",
          "data": {
            "application/javascript": [
              "download(\"download_0714d7ab-61b1-4f3f-a4ca-653c6cd9798a\", \"data_for_js_p2.json\", 3300293)"
            ],
            "text/plain": [
              "<IPython.core.display.Javascript object>"
            ]
          },
          "metadata": {
            "tags": []
          }
        },
        {
          "output_type": "stream",
          "text": [
            "{'df_size': (37530, 3), 'df_num_uid': 834, 'df_num_features': 45}\n",
            "['uid', 'pubyear', 'source_title', 'doi', 'title', 'dimensions_url', 'x_1', 'y_1', 'x_2', 'y_2', 'cluster_1', 'cluster_2', 'from_author_de-kok-a.g.', 'from_author_de-kok-t.', 'from_author_de-koster-r.', 'from_author_de-koster-r.b.m.', 'from_author_de-schutter-b.', 'from_author_dekker-r.', 'from_author_geerlings-h.', 'from_author_lodewijks-g.', 'from_author_negenborn-r.r.', 'from_author_ottjes-j.a.', 'from_author_pang-y.', 'from_author_schott-d.l.', 'from_author_tavasszy-l.', 'from_author_tavasszy-l.a.', 'from_author_van-woensel-t.', 'from_author_veenstra-a.w.', 'from_author_vis-i.f.a.', 'from_author_xin-j.', 'from_author_zuidwijk-r.', 'from_author_zuidwijk-r.a.', 'from_keyword_algorithms', 'from_keyword_automated-container-terminals', 'from_keyword_belt-conveyors', 'from_keyword_computer-simulation', 'from_keyword_container-terminal', 'from_keyword_container-terminals', 'from_keyword_containers', 'from_keyword_costs', 'from_keyword_decision-making', 'from_keyword_distribution', 'from_keyword_intermodal-transport', 'from_keyword_inventory', 'from_keyword_inventory-control', 'from_keyword_logistics', 'from_keyword_maintenance', 'from_keyword_materials-handling-equipment', 'from_keyword_mathematical-models', 'from_keyword_model-predictive-control', 'from_keyword_optimization', 'from_keyword_order-picking', 'from_keyword_port-terminals', 'from_keyword_predictive-control-systems', 'from_keyword_problem-solving', 'from_keyword_rfid', 'from_keyword_sales', 'from_keyword_scheduling', 'from_keyword_simulation', 'from_keyword_spare-parts', 'from_keyword_supply-chain-management', 'from_keyword_transportation', 'from_keyword_vehicle-routing', 'from_keyword_warehouses', 'from_keyword_warehousing', 'from_source_2013-10th-ieee-international-conference-on-networking,-sensing-and-control,-icnsc-2013', 'from_source_bulk-solids-handling', 'from_source_computers-and-operations-research', 'from_source_european-journal-of-operational-research', 'from_source_ieee-conference-on-intelligent-transportation-systems,-proceedings,-itsc', 'from_source_ifac-proceedings-volumes-(ifac-papersonline)', 'from_source_iie-transactions-(institute-of-industrial-engineers)', 'from_source_interfaces', 'from_source_international-journal-of-production-economics', 'from_source_international-journal-of-production-research', 'from_source_journal-of-the-operational-research-society', 'from_source_lecture-notes-in-computer-science-(including-subseries-lecture-notes-in-artificial-intelligence-and-lecture-notes-in-bioinformatics)', 'from_source_maritime-economics-and-logistics', 'from_source_or-spectrum', 'from_source_proceedings---winter-simulation-conference', 'from_source_production-and-operations-management', 'from_source_transportation-planning-and-technology', 'from_source_transportation-research-part-c:-emerging-technologies', 'from_source_transportation-research-part-e:-logistics-and-transportation-review', 'from_source_transportation-science', 'from_word_analysis', 'from_word_constraint', 'from_word_conveyor', 'from_word_demand', 'from_word_dynamic', 'from_word_energy', 'from_word_intermodal', 'from_word_maintenance', 'from_word_model', 'from_word_optimization', 'from_word_order', 'from_word_policy', 'from_word_scheduling', 'from_word_stochastic', 'from_word_supply', 'from_word_system', 'from_word_times', 'from_word_transportation', 'from_word_vessel', 'from_word_warehouse']\n",
            "{'project_number': 2, 'project_name': 'Transport and Logistics', 'type': 'rixai-network-complex', 'num-records': 834, 'cluster_list': ['1', '2'], 'list_cluster_1': [3, 2, 0, 1], 'list_cluster_2': [4, 2, 1, 0, 3], 'cluster_names': ['Planning and Control', 'Bulk Solids', 'Inventory Control', 'Operational Research'], 'feature_list': ['word', 'source', 'keyword', 'author'], 'list_word': ['from_word_model', 'from_word_system', 'from_word_conveyor', 'from_word_analysis', 'from_word_supply', 'from_word_order', 'from_word_warehouse', 'from_word_maintenance', 'from_word_dynamic', 'from_word_policy', 'from_word_transportation', 'from_word_intermodal', 'from_word_times', 'from_word_energy', 'from_word_optimization', 'from_word_scheduling', 'from_word_vessel', 'from_word_constraint', 'from_word_demand', 'from_word_stochastic'], 'listname_word': ['from_word_model (155)', 'from_word_system (145)', 'from_word_conveyor (44)', 'from_word_analysis (40)', 'from_word_supply (38)', 'from_word_order (36)', 'from_word_warehouse (34)', 'from_word_maintenance (32)', 'from_word_dynamic (28)', 'from_word_policy (28)', 'from_word_transportation (27)', 'from_word_intermodal (25)', 'from_word_times (25)', 'from_word_energy (23)', 'from_word_optimization (23)', 'from_word_scheduling (21)', 'from_word_vessel (21)', 'from_word_constraint (18)', 'from_word_demand (18)', 'from_word_stochastic (17)'], 'list_source': ['from_source_european-journal-of-operational-research', 'from_source_international-journal-of-production-economics', 'from_source_lecture-notes-in-computer-science-(including-subseries-lecture-notes-in-artificial-intelligence-and-lecture-notes-in-bioinformatics)', 'from_source_bulk-solids-handling', 'from_source_international-journal-of-production-research', 'from_source_iie-transactions-(institute-of-industrial-engineers)', 'from_source_journal-of-the-operational-research-society', 'from_source_production-and-operations-management', 'from_source_computers-and-operations-research', 'from_source_ieee-conference-on-intelligent-transportation-systems,-proceedings,-itsc', 'from_source_ifac-proceedings-volumes-(ifac-papersonline)', 'from_source_or-spectrum', 'from_source_transportation-research-part-c:-emerging-technologies', 'from_source_transportation-science', 'from_source_transportation-research-part-e:-logistics-and-transportation-review', 'from_source_proceedings---winter-simulation-conference', 'from_source_interfaces', 'from_source_maritime-economics-and-logistics', 'from_source_2013-10th-ieee-international-conference-on-networking,-sensing-and-control,-icnsc-2013', 'from_source_transportation-planning-and-technology'], 'listname_source': ['from_source_european-journal-of-operational-research (72)', 'from_source_international-journal-of-production-economics (40)', 'from_source_lecture-notes-in-computer-science-(including-subseries-lecture-notes-in-artificial-intelligence-and-lecture-notes-in-bioinformatics) (34)', 'from_source_bulk-solids-handling (25)', 'from_source_international-journal-of-production-research (23)', 'from_source_iie-transactions-(institute-of-industrial-engineers) (17)', 'from_source_journal-of-the-operational-research-society (16)', 'from_source_production-and-operations-management (15)', 'from_source_computers-and-operations-research (14)', 'from_source_ieee-conference-on-intelligent-transportation-systems,-proceedings,-itsc (14)', 'from_source_ifac-proceedings-volumes-(ifac-papersonline) (14)', 'from_source_or-spectrum (13)', 'from_source_transportation-research-part-c:-emerging-technologies (13)', 'from_source_transportation-science (13)', 'from_source_transportation-research-part-e:-logistics-and-transportation-review (10)', 'from_source_proceedings---winter-simulation-conference (9)', 'from_source_interfaces (7)', 'from_source_maritime-economics-and-logistics (7)', 'from_source_2013-10th-ieee-international-conference-on-networking,-sensing-and-control,-icnsc-2013 (6)', 'from_source_transportation-planning-and-technology (6)'], 'list_keyword': ['from_keyword_optimization', 'from_keyword_inventory-control', 'from_keyword_mathematical-models', 'from_keyword_transportation', 'from_keyword_computer-simulation', 'from_keyword_containers', 'from_keyword_model-predictive-control', 'from_keyword_logistics', 'from_keyword_predictive-control-systems', 'from_keyword_costs', 'from_keyword_belt-conveyors', 'from_keyword_scheduling', 'from_keyword_maintenance', 'from_keyword_warehouses', 'from_keyword_algorithms', 'from_keyword_decision-making', 'from_keyword_materials-handling-equipment', 'from_keyword_problem-solving', 'from_keyword_inventory', 'from_keyword_port-terminals', 'from_keyword_sales', 'from_keyword_simulation', 'from_keyword_warehousing', 'from_keyword_order-picking', 'from_keyword_container-terminal', 'from_keyword_automated-container-terminals', 'from_keyword_rfid', 'from_keyword_spare-parts', 'from_keyword_supply-chain-management', 'from_keyword_vehicle-routing', 'from_keyword_container-terminals', 'from_keyword_distribution', 'from_keyword_intermodal-transport'], 'listname_keyword': ['from_keyword_optimization (111)', 'from_keyword_inventory-control (82)', 'from_keyword_mathematical-models (79)', 'from_keyword_transportation (76)', 'from_keyword_computer-simulation (69)', 'from_keyword_containers (62)', 'from_keyword_model-predictive-control (60)', 'from_keyword_logistics (55)', 'from_keyword_predictive-control-systems (49)', 'from_keyword_costs (48)', 'from_keyword_belt-conveyors (46)', 'from_keyword_scheduling (42)', 'from_keyword_maintenance (40)', 'from_keyword_warehouses (39)', 'from_keyword_algorithms (38)', 'from_keyword_decision-making (37)', 'from_keyword_materials-handling-equipment (37)', 'from_keyword_problem-solving (37)', 'from_keyword_inventory (36)', 'from_keyword_port-terminals (35)', 'from_keyword_sales (32)', 'from_keyword_simulation (32)', 'from_keyword_warehousing (24)', 'from_keyword_order-picking (20)', 'from_keyword_container-terminal (17)', 'from_keyword_automated-container-terminals (12)', 'from_keyword_rfid (12)', 'from_keyword_spare-parts (12)', 'from_keyword_supply-chain-management (12)', 'from_keyword_vehicle-routing (12)', 'from_keyword_container-terminals (11)', 'from_keyword_distribution (11)', 'from_keyword_intermodal-transport (10)'], 'list_author': ['from_author_lodewijks-g.', 'from_author_negenborn-r.r.', 'from_author_dekker-r.', 'from_author_van-woensel-t.', 'from_author_de-kok-a.g.', 'from_author_de-schutter-b.', 'from_author_vis-i.f.a.', 'from_author_de-koster-r.', 'from_author_tavasszy-l.', 'from_author_pang-y.', 'from_author_schott-d.l.', 'from_author_veenstra-a.w.', 'from_author_geerlings-h.', 'from_author_de-kok-t.', 'from_author_de-koster-r.b.m.', 'from_author_ottjes-j.a.', 'from_author_zuidwijk-r.', 'from_author_xin-j.', 'from_author_tavasszy-l.a.', 'from_author_zuidwijk-r.a.'], 'listname_author': ['from_author_lodewijks-g. (225)', 'from_author_negenborn-r.r. (152)', 'from_author_dekker-r. (140)', 'from_author_van-woensel-t. (69)', 'from_author_de-kok-a.g. (45)', 'from_author_de-schutter-b. (42)', 'from_author_vis-i.f.a. (38)', 'from_author_de-koster-r. (34)', 'from_author_tavasszy-l. (31)', 'from_author_pang-y. (30)', 'from_author_schott-d.l. (28)', 'from_author_veenstra-a.w. (28)', 'from_author_geerlings-h. (27)', 'from_author_de-kok-t. (25)', 'from_author_de-koster-r.b.m. (25)', 'from_author_ottjes-j.a. (25)', 'from_author_zuidwijk-r. (25)', 'from_author_xin-j. (22)', 'from_author_tavasszy-l.a. (21)', 'from_author_zuidwijk-r.a. (19)']}\n",
            "\n",
            "\n",
            "Processing Project: 3\n",
            "--------------------------------------------------\n",
            "{'project_number': 3, 'project_name': 'EUR - Artificial Intelligence', 'num_clusters': 5}\n",
            "1014 rows with 46 columns is read from /content/drive/My Drive/Freelancing/rixai/projects/project-003/data\n",
            "column names standardized\n",
            "0 rows removed to fix data.\n",
            "data is melted\n",
            "cannot import keyword embedding\n",
            "text embedding loaded from file.\n",
            "Model for PCA 2D is loaded from file.\n",
            "Model for PCA 1D is loaded from file.\n",
            "Model for Logistic Regression is loaded from file.\n",
            "0 rows removed to fix data.\n",
            "/content/drive/My Drive/Freelancing/rixai/projects/project-003/data/data_for_js_p3.json\n"
          ],
          "name": "stdout"
        },
        {
          "output_type": "display_data",
          "data": {
            "application/javascript": [
              "\n",
              "    async function download(id, filename, size) {\n",
              "      if (!google.colab.kernel.accessAllowed) {\n",
              "        return;\n",
              "      }\n",
              "      const div = document.createElement('div');\n",
              "      const label = document.createElement('label');\n",
              "      label.textContent = `Downloading \"${filename}\": `;\n",
              "      div.appendChild(label);\n",
              "      const progress = document.createElement('progress');\n",
              "      progress.max = size;\n",
              "      div.appendChild(progress);\n",
              "      document.body.appendChild(div);\n",
              "\n",
              "      const buffers = [];\n",
              "      let downloaded = 0;\n",
              "\n",
              "      const channel = await google.colab.kernel.comms.open(id);\n",
              "      // Send a message to notify the kernel that we're ready.\n",
              "      channel.send({})\n",
              "\n",
              "      for await (const message of channel.messages) {\n",
              "        // Send a message to notify the kernel that we're ready.\n",
              "        channel.send({})\n",
              "        if (message.buffers) {\n",
              "          for (const buffer of message.buffers) {\n",
              "            buffers.push(buffer);\n",
              "            downloaded += buffer.byteLength;\n",
              "            progress.value = downloaded;\n",
              "          }\n",
              "        }\n",
              "      }\n",
              "      const blob = new Blob(buffers, {type: 'application/binary'});\n",
              "      const a = document.createElement('a');\n",
              "      a.href = window.URL.createObjectURL(blob);\n",
              "      a.download = filename;\n",
              "      div.appendChild(a);\n",
              "      a.click();\n",
              "      div.remove();\n",
              "    }\n",
              "  "
            ],
            "text/plain": [
              "<IPython.core.display.Javascript object>"
            ]
          },
          "metadata": {
            "tags": []
          }
        },
        {
          "output_type": "display_data",
          "data": {
            "application/javascript": [
              "download(\"download_71b23a18-19f5-4d26-ab8c-c1e557b23aa8\", \"data_for_js_p3.json\", 4019999)"
            ],
            "text/plain": [
              "<IPython.core.display.Javascript object>"
            ]
          },
          "metadata": {
            "tags": []
          }
        },
        {
          "output_type": "stream",
          "text": [
            "{'df_size': (46644, 3), 'df_num_uid': 1014, 'df_num_features': 46}\n",
            "['uid', 'pubyear', 'source_title', 'doi', 'title', 'dimensions_url', 'x_1', 'y_1', 'x_2', 'y_2', 'cluster_1', 'cluster_2', 'from_author_bioch-j.c.', 'from_author_collins-j.', 'from_author_de-bruin-a.', 'from_author_de-jong-f.', 'from_author_dekker-r.', 'from_author_frasincar-f.', 'from_author_hogenboom-a.', 'from_author_hogenboom-f.', 'from_author_huisman-d.', 'from_author_kaymak-u.', 'from_author_ketter-w.', 'from_author_kroon-l.', 'from_author_kroon-l.g.', 'from_author_milea-v.', 'from_author_paas-f.', 'from_author_schmidt-m.', 'from_author_schouten-k.', 'from_author_tan-y.-h.', 'from_author_van-gog-t.', 'from_author_vandic-d.', 'from_keyword_algorithms', 'from_keyword_article', 'from_keyword_artificial-intelligence', 'from_keyword_aspect-based-sentiment-analysis', 'from_keyword_commerce', 'from_keyword_data-mining', 'from_keyword_decision-making', 'from_keyword_decision-support-systems', 'from_keyword_disruption-management', 'from_keyword_e-commerce', 'from_keyword_e-government', 'from_keyword_electric-vehicles', 'from_keyword_electronic-commerce', 'from_keyword_feature-selection', 'from_keyword_female', 'from_keyword_heuristics', 'from_keyword_human', 'from_keyword_humans', 'from_keyword_information-systems', 'from_keyword_learning-systems', 'from_keyword_machine-learning', 'from_keyword_male', 'from_keyword_ontology', 'from_keyword_optimization', 'from_keyword_priority-journal', 'from_keyword_scheduling', 'from_keyword_semantic-web', 'from_keyword_semantics', 'from_keyword_sentiment-analysis', 'from_keyword_simulation', 'from_keyword_smart-grid', 'from_keyword_supply-chain-management', 'from_keyword_sustainability', 'from_keyword_text-mining', 'from_keyword_word-sense-disambiguation', 'from_source_acm-international-conference-proceeding-series', 'from_source_belgian/netherlands-artificial-intelligence-conference', 'from_source_communications-in-computer-and-information-science', 'from_source_computers-and-operations-research', 'from_source_computers-in-human-behavior', 'from_source_decision-support-systems', 'from_source_educational-psychology-review', 'from_source_european-journal-of-operational-research', 'from_source_expert-systems-with-applications', 'from_source_ieee-international-conference-on-fuzzy-systems', 'from_source_international-journal-of-medical-informatics', 'from_source_international-journal-of-production-research', 'from_source_journal-of-web-engineering', 'from_source_lecture-notes-in-artificial-intelligence-(subseries-of-lecture-notes-in-computer-science)', 'from_source_lecture-notes-in-business-information-processing', 'from_source_lecture-notes-in-computer-science-(including-subseries-lecture-notes-in-artificial-intelligence-and-lecture-notes-in-bioinformatics)', 'from_source_methods-of-information-in-medicine', 'from_source_proceedings-of-the-acm-symposium-on-applied-computing', 'from_source_transportation-research-part-b:-methodological', 'from_source_transportation-science', 'from_word_agent', 'from_word_analysis', 'from_word_application', 'from_word_approach', 'from_word_aspect', 'from_word_classification', 'from_word_fuzzy', 'from_word_knowledge', 'from_word_learning', 'from_word_model', 'from_word_network', 'from_word_ontology', 'from_word_optimization', 'from_word_problem', 'from_word_review', 'from_word_scheduling', 'from_word_search', 'from_word_sentiment', 'from_word_system', 'from_word_using']\n",
            "{'project_number': 3, 'project_name': 'EUR - Artificial Intelligence', 'type': 'rixai-network-complex', 'num-records': 1014, 'cluster_list': ['1', '2'], 'list_cluster_1': [3, 2, 4, 0, 1], 'list_cluster_2': [3, 2, 4, 0, 1], 'cluster_names': ['Topic 3', 'Topic 2', 'Topic 4', 'Topic 0', 'Topic 1'], 'feature_list': ['word', 'source', 'keyword', 'author'], 'list_word': ['from_word_model', 'from_word_system', 'from_word_using', 'from_word_analysis', 'from_word_approach', 'from_word_network', 'from_word_search', 'from_word_agent', 'from_word_problem', 'from_word_sentiment', 'from_word_learning', 'from_word_review', 'from_word_application', 'from_word_fuzzy', 'from_word_knowledge', 'from_word_optimization', 'from_word_ontology', 'from_word_aspect', 'from_word_classification', 'from_word_scheduling'], 'listname_word': ['from_word_model (100)', 'from_word_system (100)', 'from_word_using (94)', 'from_word_analysis (92)', 'from_word_approach (66)', 'from_word_network (50)', 'from_word_search (50)', 'from_word_agent (49)', 'from_word_problem (49)', 'from_word_sentiment (41)', 'from_word_learning (39)', 'from_word_review (32)', 'from_word_application (31)', 'from_word_fuzzy (30)', 'from_word_knowledge (28)', 'from_word_optimization (28)', 'from_word_ontology (27)', 'from_word_aspect (23)', 'from_word_classification (22)', 'from_word_scheduling (21)'], 'list_source': ['from_source_lecture-notes-in-computer-science-(including-subseries-lecture-notes-in-artificial-intelligence-and-lecture-notes-in-bioinformatics)', 'from_source_decision-support-systems', 'from_source_european-journal-of-operational-research', 'from_source_belgian/netherlands-artificial-intelligence-conference', 'from_source_proceedings-of-the-acm-symposium-on-applied-computing', 'from_source_transportation-science', 'from_source_acm-international-conference-proceeding-series', 'from_source_expert-systems-with-applications', 'from_source_communications-in-computer-and-information-science', 'from_source_computers-and-operations-research', 'from_source_international-journal-of-medical-informatics', 'from_source_lecture-notes-in-artificial-intelligence-(subseries-of-lecture-notes-in-computer-science)', 'from_source_transportation-research-part-b:-methodological', 'from_source_computers-in-human-behavior', 'from_source_ieee-international-conference-on-fuzzy-systems', 'from_source_international-journal-of-production-research', 'from_source_educational-psychology-review', 'from_source_journal-of-web-engineering', 'from_source_lecture-notes-in-business-information-processing', 'from_source_methods-of-information-in-medicine'], 'listname_source': ['from_source_lecture-notes-in-computer-science-(including-subseries-lecture-notes-in-artificial-intelligence-and-lecture-notes-in-bioinformatics) (159)', 'from_source_decision-support-systems (27)', 'from_source_european-journal-of-operational-research (24)', 'from_source_belgian/netherlands-artificial-intelligence-conference (19)', 'from_source_proceedings-of-the-acm-symposium-on-applied-computing (16)', 'from_source_transportation-science (15)', 'from_source_acm-international-conference-proceeding-series (12)', 'from_source_expert-systems-with-applications (11)', 'from_source_communications-in-computer-and-information-science (10)', 'from_source_computers-and-operations-research (9)', 'from_source_international-journal-of-medical-informatics (9)', 'from_source_lecture-notes-in-artificial-intelligence-(subseries-of-lecture-notes-in-computer-science) (8)', 'from_source_transportation-research-part-b:-methodological (8)', 'from_source_computers-in-human-behavior (7)', 'from_source_ieee-international-conference-on-fuzzy-systems (7)', 'from_source_international-journal-of-production-research (7)', 'from_source_educational-psychology-review (6)', 'from_source_journal-of-web-engineering (6)', 'from_source_lecture-notes-in-business-information-processing (6)', 'from_source_methods-of-information-in-medicine (6)'], 'list_keyword': ['from_keyword_artificial-intelligence', 'from_keyword_article', 'from_keyword_human', 'from_keyword_algorithms', 'from_keyword_humans', 'from_keyword_semantics', 'from_keyword_decision-making', 'from_keyword_optimization', 'from_keyword_data-mining', 'from_keyword_information-systems', 'from_keyword_commerce', 'from_keyword_decision-support-systems', 'from_keyword_sentiment-analysis', 'from_keyword_female', 'from_keyword_priority-journal', 'from_keyword_male', 'from_keyword_electronic-commerce', 'from_keyword_ontology', 'from_keyword_semantic-web', 'from_keyword_learning-systems', 'from_keyword_machine-learning', 'from_keyword_sustainability', 'from_keyword_electric-vehicles', 'from_keyword_simulation', 'from_keyword_e-commerce', 'from_keyword_e-government', 'from_keyword_scheduling', 'from_keyword_smart-grid', 'from_keyword_supply-chain-management', 'from_keyword_aspect-based-sentiment-analysis', 'from_keyword_feature-selection', 'from_keyword_heuristics', 'from_keyword_text-mining', 'from_keyword_disruption-management', 'from_keyword_word-sense-disambiguation'], 'listname_keyword': ['from_keyword_artificial-intelligence (144)', 'from_keyword_article (87)', 'from_keyword_human (85)', 'from_keyword_algorithms (61)', 'from_keyword_humans (61)', 'from_keyword_semantics (61)', 'from_keyword_decision-making (60)', 'from_keyword_optimization (59)', 'from_keyword_data-mining (56)', 'from_keyword_information-systems (56)', 'from_keyword_commerce (47)', 'from_keyword_decision-support-systems (47)', 'from_keyword_sentiment-analysis (46)', 'from_keyword_female (44)', 'from_keyword_priority-journal (42)', 'from_keyword_male (41)', 'from_keyword_electronic-commerce (36)', 'from_keyword_ontology (34)', 'from_keyword_semantic-web (34)', 'from_keyword_learning-systems (32)', 'from_keyword_machine-learning (13)', 'from_keyword_sustainability (13)', 'from_keyword_electric-vehicles (10)', 'from_keyword_simulation (10)', 'from_keyword_e-commerce (9)', 'from_keyword_e-government (9)', 'from_keyword_scheduling (9)', 'from_keyword_smart-grid (9)', 'from_keyword_supply-chain-management (9)', 'from_keyword_aspect-based-sentiment-analysis (8)', 'from_keyword_feature-selection (8)', 'from_keyword_heuristics (8)', 'from_keyword_text-mining (8)', 'from_keyword_disruption-management (7)', 'from_keyword_word-sense-disambiguation (7)'], 'list_author': ['from_author_frasincar-f.', 'from_author_kaymak-u.', 'from_author_ketter-w.', 'from_author_hogenboom-f.', 'from_author_schouten-k.', 'from_author_vandic-d.', 'from_author_hogenboom-a.', 'from_author_collins-j.', 'from_author_milea-v.', 'from_author_dekker-r.', 'from_author_de-jong-f.', 'from_author_huisman-d.', 'from_author_tan-y.-h.', 'from_author_de-bruin-a.', 'from_author_paas-f.', 'from_author_kroon-l.g.', 'from_author_schmidt-m.', 'from_author_van-gog-t.', 'from_author_bioch-j.c.', 'from_author_kroon-l.'], 'listname_author': ['from_author_frasincar-f. (146)', 'from_author_kaymak-u. (86)', 'from_author_ketter-w. (55)', 'from_author_hogenboom-f. (49)', 'from_author_schouten-k. (33)', 'from_author_vandic-d. (32)', 'from_author_hogenboom-a. (31)', 'from_author_collins-j. (28)', 'from_author_milea-v. (22)', 'from_author_dekker-r. (21)', 'from_author_de-jong-f. (20)', 'from_author_huisman-d. (20)', 'from_author_tan-y.-h. (19)', 'from_author_de-bruin-a. (18)', 'from_author_paas-f. (18)', 'from_author_kroon-l.g. (17)', 'from_author_schmidt-m. (17)', 'from_author_van-gog-t. (16)', 'from_author_bioch-j.c. (15)', 'from_author_kroon-l. (15)']}\n"
          ],
          "name": "stdout"
        }
      ]
    }
  ]
}